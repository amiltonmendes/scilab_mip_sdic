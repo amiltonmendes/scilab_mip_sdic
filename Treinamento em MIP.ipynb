{
 "cells": [
  {
   "cell_type": "code",
   "execution_count": 1,
   "id": "bd047f0c-6ef9-4e87-bd8c-5cf5e4c9f438",
   "metadata": {},
   "outputs": [],
   "source": [
    "import numpy as np\n",
    "import scipy.linalg as la\n",
    "import pandas as pd"
   ]
  },
  {
   "cell_type": "markdown",
   "id": "7fd05830",
   "metadata": {},
   "source": [
    "# Aula 01 - Utilização prática da Matriz Insumo Produto\n",
    "Objetivos : \n",
    "* Principais conceitos da Matriz Insumo Produto\n",
    "* \n"
   ]
  },
  {
   "cell_type": "markdown",
   "id": "06bbf24f",
   "metadata": {},
   "source": [
    "# Extrair informações da MIP"
   ]
  },
  {
   "cell_type": "code",
   "execution_count": 2,
   "id": "12fda94d",
   "metadata": {},
   "outputs": [],
   "source": [
    "#Produção total\n",
    "V = pd.read_excel('./dados/MIP_2019_67_PCE.xlsx',sheet_name='Recursos',skiprows=5,skipfooter=4,usecols=[*range(11,78)],header=None)\n",
    "V = np.transpose(V)\n",
    "#Impostos\n",
    "Imp = pd.read_excel('./dados/MIP_2019_67_PCE.xlsx',sheet_name='Recursos',skiprows=5,skipfooter=4,usecols=[8],header=None)\n",
    "#Consumo intermediário produção nacional\n",
    "Un = pd.read_excel('./dados/MIP_2019_67_PCE.xlsx',sheet_name='Usos Nacional',skiprows=5,skipfooter=4,usecols=[*range(2,69)],header=None)\n",
    "#Demanda Final Nacional\n",
    "Fn = pd.read_excel('./dados/MIP_2019_67_PCE.xlsx',sheet_name='Usos Nacional',skiprows=5,skipfooter=4,usecols=[*range(70,76)],header=None)\n",
    "\n",
    "#Consumo intermediário produção importados\n",
    "Um = pd.read_excel('./dados/MIP_2019_67_PCE.xlsx',sheet_name='Usos Importado',skiprows=5,skipfooter=4,usecols=[*range(2,69)],header=None)\n",
    "#Demanda Final Nacional importados\n",
    "Fm = pd.read_excel('./dados/MIP_2019_67_PCE.xlsx',sheet_name='Usos Importado',skiprows=5,skipfooter=4,usecols=[*range(70,76)],header=None)\n"
   ]
  },
  {
   "cell_type": "markdown",
   "id": "dff1d0c0",
   "metadata": {},
   "source": [
    "# Extrair informações da TRU\n"
   ]
  },
  {
   "cell_type": "code",
   "execution_count": 3,
   "id": "ecf88050",
   "metadata": {},
   "outputs": [],
   "source": [
    "#Dados da TRU\n",
    "planilha = pd.read_excel('./dados/nivel_68_2010_2021_xls/68_tab2_2019.xls',sheet_name='VA',skiprows=5,skipfooter=4,usecols=[*range(1,69)],header=None) # planilha VA\n",
    "VAB = planilha.iloc[0,:].to_numpy()#Valor adicionado bruto\n",
    "W = planilha.loc[1,:].to_numpy()#Remuneracoes\n",
    "RMB = planilha.loc[8,:].to_numpy()#Rendimento misto bruto\n",
    "Out_Imp = planilha.loc[10,:].to_numpy()# outros impostos e subsidios\n",
    "Sub = planilha.loc[11,:].to_numpy()# outros impostos e subsidios\n",
    "Imp_ou_sub = Out_Imp + Sub\n",
    "VBP = planilha.iloc[12,:].to_numpy()#Valor bruto de produção\n",
    "o = planilha.loc[13,:]# ocupações\n",
    "\n",
    "#Matriz para agregação de 68 atividades em 67 da TRU\n",
    "agg_68_67 = np.concatenate((np.eye(67,41),np.concatenate((np.zeros((40,27)),np.eye(27,27)))),axis=1)\n",
    "#Transformação nas matrizes para 67 atividades\n",
    "VAB = np.matmul(agg_68_67,VAB.transpose())\n",
    "W = np.matmul(agg_68_67,W.transpose())\n",
    "RMB = np.matmul(agg_68_67,RMB.transpose())\n",
    "Out_Imp = np.matmul(agg_68_67,Out_Imp.transpose())\n",
    "Sub = np.matmul(agg_68_67,Sub.transpose())\n",
    "Imp_ou_sub = np.matmul(agg_68_67,Imp_ou_sub.transpose())\n",
    "VBP = np.matmul(agg_68_67,VBP.transpose())\n",
    "\n",
    "o = np.matmul(agg_68_67,o.transpose())\n",
    "\n",
    "\n"
   ]
  },
  {
   "cell_type": "markdown",
   "id": "4268a207",
   "metadata": {},
   "source": [
    "# Derivar informações da MIP"
   ]
  },
  {
   "cell_type": "code",
   "execution_count": 4,
   "id": "9fceaae0",
   "metadata": {},
   "outputs": [
    {
     "data": {
      "text/plain": [
       "(67, 126)"
      ]
     },
     "execution_count": 4,
     "metadata": {},
     "output_type": "execute_result"
    }
   ],
   "source": [
    "V.shape"
   ]
  },
  {
   "cell_type": "code",
   "execution_count": 5,
   "id": "c9ea01b0",
   "metadata": {},
   "outputs": [],
   "source": [
    "g = np.matmul(V,np.ones(126)) ## Produção total por atividade No caso da MIP estimada, o transporte aquaviário foi fundido com o terrestre de cargas\n",
    "q = np.transpose(np.matmul(np.transpose(np.ones(67)),V)) ## Produção total por produto\n",
    "D = np.matmul(V,np.linalg.inv(np.diag(q))) # market share\n",
    "\n",
    "Bn = np.matmul(Un,np.linalg.inv(np.diag(g))) # consumo intermediário nacional\n",
    "A = np.matmul(D,Bn) # coeficientes técnicos intersetoriais nacionais\n",
    "\n",
    "fn = np.matmul(Fn,np.transpose(np.ones(6))) # soma da demanda final\n",
    "e = np.matmul(D,fn) #Demanda final ( nacional )\n",
    "\n",
    "Bm = np.matmul(Um,np.linalg.inv(np.diag(g))) # consumo intermediário importado\n",
    "\n",
    "A_plus = np.matmul(D,Bn+Bm) # coeficientes técnicos ampliada ( contém insumos nacionais e importados )\n",
    "L = np.linalg.inv(np.eye(A.shape[0])-A) # leontief\n",
    "\n",
    "l=np.matmul(np.linalg.inv(np.diag(g)),o)#Postos de trabalho por unidade (Milhão) de produção \n",
    "\n"
   ]
  },
  {
   "cell_type": "code",
   "execution_count": 9,
   "id": "21e1fd72",
   "metadata": {},
   "outputs": [
    {
     "data": {
      "text/plain": [
       "(67, 126)"
      ]
     },
     "execution_count": 9,
     "metadata": {},
     "output_type": "execute_result"
    }
   ],
   "source": [
    "D.shape"
   ]
  },
  {
   "cell_type": "markdown",
   "id": "8a98016b",
   "metadata": {},
   "source": [
    "# Cálculo em um modelo fechado"
   ]
  },
  {
   "cell_type": "code",
   "execution_count": 7,
   "id": "39e9ee18",
   "metadata": {},
   "outputs": [
    {
     "data": {
      "text/plain": [
       "3217680.0"
      ]
     },
     "execution_count": 7,
     "metadata": {},
     "output_type": "execute_result"
    }
   ],
   "source": [
    "sum(W)"
   ]
  },
  {
   "cell_type": "code",
   "execution_count": 8,
   "id": "4496c840",
   "metadata": {},
   "outputs": [],
   "source": [
    "cr =  W/VBP #Coeficientes de remuneração do trabalho ( renda )\n",
    "ch = Fn.loc[:,Fn.columns[3]]/sum(W)"
   ]
  },
  {
   "cell_type": "code",
   "execution_count": 9,
   "id": "5093bbd9",
   "metadata": {},
   "outputs": [
    {
     "data": {
      "text/plain": [
       "(126,)"
      ]
     },
     "execution_count": 9,
     "metadata": {},
     "output_type": "execute_result"
    }
   ],
   "source": [
    "Fn.loc[:,Fn.columns[3]].shape"
   ]
  },
  {
   "cell_type": "markdown",
   "id": "61fe2995",
   "metadata": {},
   "source": [
    "# Cálculo dos multiplicadores"
   ]
  },
  {
   "cell_type": "code",
   "execution_count": 10,
   "id": "f9e6ca5f",
   "metadata": {},
   "outputs": [],
   "source": [
    "w = np.matmul(np.linalg.inv(np.diag(g)),W) # participação de remuneracoes pela produção total, para cada atividade\n",
    "wa = np.matmul(np.linalg.inv(np.diag(g)),W+RMB) # participação de remuneracoes pela produção total, para cada atividade\n",
    "\n",
    "y=np.matmul(np.linalg.inv(np.diag(g)),VAB) # participação de valor agregado pela produção total, para cada atividade\n",
    "tp=np.matmul(np.matmul(np.linalg.inv(np.diag(g)),D),Imp)#Divisão de impostos pelo market share de cada produto\n",
    "\n",
    "to=np.matmul(np.matmul(np.diag(y),np.linalg.inv(np.diag(VAB))),Imp_ou_sub)#Outros impostos sobre a produção\n",
    "\n",
    "tn = tp[8].to_numpy()+to #Total de impostos sobre produção nacional\n"
   ]
  },
  {
   "cell_type": "code",
   "execution_count": 11,
   "id": "8130c6cf",
   "metadata": {},
   "outputs": [],
   "source": [
    "\n",
    "massa_salarial = np.matmul(w.transpose(),np.matmul(L,e))\n",
    "pib = np.matmul(np.matmul(y.transpose()+tp.transpose(),L),e.to_numpy())\n",
    "Valor_Agregado = np.matmul(np.matmul(y.transpose(),L),e)"
   ]
  },
  {
   "cell_type": "code",
   "execution_count": 12,
   "id": "97e70b10",
   "metadata": {},
   "outputs": [
    {
     "name": "stdout",
     "output_type": "stream",
     "text": [
      "Aumento no consumo intermediário importado de 120591.27 \n",
      "Aumento no valor agregado de produção de 792550.11 \n",
      "Aumento no PIB de 855268.03 \n",
      "Aumento nas ocupações (postos de trabalho) de 22.74 \n",
      "Aumento na massa salarial de 364504.47 \n",
      "Aumento na massa salarial ampliada de 508903.16 \n"
     ]
    }
   ],
   "source": [
    "#Calcular o incremento de uma unidade (milhão) na atividade identificadada por 1 no vetor arr\n",
    "arr = np.zeros(67)\n",
    "arr[7]=1\n",
    "\n",
    "print(\"Aumento no consumo intermediário importado de {:0.2f} \".format(np.matmul(np.ones(67),np.matmul(np.matmul(np.matmul(D,Bm),L),arr)*1000000)))#aumento de consumo intermediário importado\n",
    "print(\"Aumento no valor agregado de produção de {:0.2f} \".format(np.matmul(np.matmul(y.transpose(),L),arr)*1000000))\n",
    "print(\"Aumento no PIB de {:0.2f} \".format(np.matmul(np.matmul(y.transpose()+tp.transpose(),L),arr).values[0]*1000000))\n",
    "print(\"Aumento nas ocupações (postos de trabalho) de {:0.2f} \".format(np.matmul(np.matmul(l,L),arr)))\n",
    "print(\"Aumento na massa salarial de {:0.2f} \".format(np.matmul(np.matmul(w,L),arr)*1000000))\n",
    "print(\"Aumento na massa salarial ampliada de {:0.2f} \".format(np.matmul(np.matmul(wa,L),arr)*1000000))"
   ]
  },
  {
   "cell_type": "markdown",
   "id": "f8fb9e87",
   "metadata": {},
   "source": [
    "# Cálculo dos multiplicadores para trás - Total"
   ]
  },
  {
   "cell_type": "code",
   "execution_count": 13,
   "id": "c5e2163f",
   "metadata": {},
   "outputs": [],
   "source": [
    "mul_prod = np.matmul(np.ones(67).transpose(),L)#Multiplicador para produção\n",
    "mul_sal = np.matmul(w.transpose(),L)#multiplicador de remunerações\n",
    "mul_sal_ajus = np.matmul(wa.transpose(),L)#multiplicador de remunerações ajustado\n",
    "mul_imp = np.matmul(tp[8].transpose(),L)#multiplicador de impostos\n",
    "mul_ocup = np.matmul(l.transpose(),L)#Multiplicador de ocupações\n"
   ]
  },
  {
   "cell_type": "code",
   "execution_count": 14,
   "id": "bafb148a",
   "metadata": {},
   "outputs": [],
   "source": [
    "poder_dispersao = 67*mul_prod / np.matmul(np.matmul(np.ones(67).transpose(),L),np.ones(67).transpose()) #multiplicador de produção normalizado"
   ]
  },
  {
   "cell_type": "code",
   "execution_count": 15,
   "id": "d6c2c824",
   "metadata": {},
   "outputs": [],
   "source": [
    "#Bn = np.matmul(np.linalg.inv(np.diag(g)),D) # consumo intermediário nacional\n",
    "#Sensibilidade de dispersão (Gosh)\n",
    "\n",
    "\n",
    "B = np.matmul(np.matmul(np.linalg.inv(np.diag(g)),D),Un) #coeficientes técnicos a jusante\n",
    "G = np.linalg.inv(np.eye(B.shape[0])-B) #matriz inversa de Gosh\n",
    "mul_prod_jus = np.matmul(G,np.ones(67))\n",
    "sensibilidade_dispersao = 67*mul_prod_jus / np.matmul(np.matmul(np.ones(67),G),np.ones(67)) #multiplicador a jusante normalizado\n"
   ]
  },
  {
   "cell_type": "markdown",
   "id": "1be89326",
   "metadata": {},
   "source": [
    "# Modelo antigo de cálculo"
   ]
  },
  {
   "cell_type": "code",
   "execution_count": 115,
   "id": "8784afc3",
   "metadata": {},
   "outputs": [
    {
     "name": "stdout",
     "output_type": "stream",
     "text": [
      "Setor Fabricação de químicos orgânicos e inorgânicos, resinas e elastômeros possui índice 20\n",
      "Setor Fabricação de automóveis, caminhões e ônibus, exceto peças possui índice 32\n",
      "Setor Fabricação de máquinas e equipamentos mecânicos possui índice 31\n",
      "Setor Fabricação de máquinas e equipamentos elétricos possui índice 30\n",
      "Setor Fabricação de produtos farmoquímicos e farmacêuticos possui índice 23\n",
      "Setor Fabricação de outros equipamentos de transporte, exceto veículos automotores possui índice 34\n",
      "Setor Fabricação de equipamentos de informática, produtos eletrônicos e ópticos possui índice 29\n"
     ]
    }
   ],
   "source": [
    "\n",
    "lista_valores_estimados_e_atuais = [\"30783.49\t33800.59\t26985.95\",\"23827.59\t27125.16\t21237.93\",\"15568.81\t17353.37\t14090.02\",\"10274.08\t12203.09\t7914.03\",\"9189.94\t11750.29\t8316.09\",\"8766.51\t22180.82\t3835.61\",\"7149.87\t8764.71\t6767.39\"]\n",
    "lista_setores_indices = []\n",
    "\n",
    "lista_setores_indices.append(print_indice_setor(\"Fabricação de químicos orgânicos e inorgânicos, resinas e elastômeros\"))\n",
    "lista_setores_indices.append(print_indice_setor(\"Fabricação de automóveis, caminhões e ônibus, exceto peças\"))\n",
    "lista_setores_indices.append(print_indice_setor(\"Fabricação de máquinas e equipamentos mecânicos\"))\n",
    "lista_setores_indices.append(print_indice_setor(\"Fabricação de máquinas e equipamentos elétricos\"))\n",
    "lista_setores_indices.append(print_indice_setor(\"Fabricação de produtos farmoquímicos e farmacêuticos\"))\n",
    "lista_setores_indices.append(print_indice_setor(\"Fabricação de outros equipamentos de transporte, exceto veículos automotores\"))\n",
    "lista_setores_indices.append(print_indice_setor(\"Fabricação de equipamentos de informática, produtos eletrônicos e ópticos\"))\n",
    "\n",
    "df_setores = pd.DataFrame(data=lista_setores_indices,columns=['Atividades','Indice','Multiplicador de produção','Multiplicador de remuneração','Multiplicador de remuneração ajustado','Multiplicador de impostos','Multiplicador de ocupações'])"
   ]
  },
  {
   "cell_type": "code",
   "execution_count": 116,
   "id": "5aec102e",
   "metadata": {},
   "outputs": [],
   "source": [
    "for i,j in df_setores.iterrows():\n",
    "    df_setores.loc[i,\"Estimativa de crescimento pessimista (US$)\"] = lista_valores_estimados_e_atuais[i].split(\"\\t\")[0]\n",
    "    df_setores.loc[i,\"Estimativa crescimento otimista (US$)\"] = lista_valores_estimados_e_atuais[i].split(\"\\t\")[1]\n",
    "    df_setores.loc[i,\"Valores atuais ( 2021 ) (US$)\"] = lista_valores_estimados_e_atuais[i].split(\"\\t\")[2]\n",
    "    "
   ]
  },
  {
   "cell_type": "code",
   "execution_count": 117,
   "id": "52a6d6c8",
   "metadata": {},
   "outputs": [],
   "source": [
    "df_setores['Percentuais do setor'] = 1.\n",
    "df_setores.loc[0,\"Percentuais do setor\"] = 0.53\n",
    "df_setores.loc[1,\"Percentuais do setor\"] = 0.4"
   ]
  },
  {
   "cell_type": "code",
   "execution_count": 135,
   "id": "8de23f82",
   "metadata": {},
   "outputs": [],
   "source": [
    "cambio = 5.25 # data 17/04/2024\n",
    "colunas_estimativas = [\"Estimativa de crescimento pessimista (US$)\",\"Estimativa crescimento otimista (US$)\",\"Valores atuais ( 2021 ) (US$)\"]\n",
    "multiplicadores = ['Multiplicador de produção','Multiplicador de remuneração','Multiplicador de remuneração ajustado','Multiplicador de impostos','Multiplicador de ocupações']\n",
    "label = \" Impacto {} na {}\"\n",
    "label_estimativa =\"\"\n",
    "\n",
    "for i in colunas_estimativas:\n",
    "    df_setores[i] = df_setores[i].astype(float)\n",
    "    df_setores[i[:-6]+\" (R$) \"] = df_setores[i]*df_setores['Percentuais do setor']*cambio\n",
    "    if \"pessimista\" in i:\n",
    "        label_estimativa=\"pessimista\"\n",
    "    elif \"otimista\" in i:\n",
    "        label_estimativa=\"otimista\"\n",
    "    elif \"atuais\" in i:\n",
    "        label_estimativa=\"atual\"\n",
    "    for mul in multiplicadores:\n",
    "        df_setores[label.format(label_estimativa,mul[17:])] = df_setores[mul]*df_setores[i[:-6]+\" (R$) \"]\n"
   ]
  },
  {
   "cell_type": "code",
   "execution_count": 136,
   "id": "55a5355e",
   "metadata": {},
   "outputs": [
    {
     "data": {
      "text/html": [
       "<div>\n",
       "<style scoped>\n",
       "    .dataframe tbody tr th:only-of-type {\n",
       "        vertical-align: middle;\n",
       "    }\n",
       "\n",
       "    .dataframe tbody tr th {\n",
       "        vertical-align: top;\n",
       "    }\n",
       "\n",
       "    .dataframe thead th {\n",
       "        text-align: right;\n",
       "    }\n",
       "</style>\n",
       "<table border=\"1\" class=\"dataframe\">\n",
       "  <thead>\n",
       "    <tr style=\"text-align: right;\">\n",
       "      <th></th>\n",
       "      <th>Atividades</th>\n",
       "      <th>Indice</th>\n",
       "      <th>Multiplicador de produção</th>\n",
       "      <th>Multiplicador de remuneração</th>\n",
       "      <th>Multiplicador de remuneração ajustado</th>\n",
       "      <th>Multiplicador de impostos</th>\n",
       "      <th>Multiplicador de ocupações</th>\n",
       "      <th>Estimativa de crescimento pessimista (US$)</th>\n",
       "      <th>Estimativa crescimento otimista (US$)</th>\n",
       "      <th>Valores atuais ( 2021 ) (US$)</th>\n",
       "      <th>...</th>\n",
       "      <th>Impacto otimista na produção</th>\n",
       "      <th>Impacto otimista na remuneração</th>\n",
       "      <th>Impacto otimista na remuneração ajustado</th>\n",
       "      <th>Impacto otimista na impostos</th>\n",
       "      <th>Impacto otimista na ocupações</th>\n",
       "      <th>Impacto atual na produção</th>\n",
       "      <th>Impacto atual na remuneração</th>\n",
       "      <th>Impacto atual na remuneração ajustado</th>\n",
       "      <th>Impacto atual na impostos</th>\n",
       "      <th>Impacto atual na ocupações</th>\n",
       "    </tr>\n",
       "  </thead>\n",
       "  <tbody>\n",
       "    <tr>\n",
       "      <th>0</th>\n",
       "      <td>Fabricação de químicos orgânicos e inorgânicos...</td>\n",
       "      <td>20</td>\n",
       "      <td>1.987735</td>\n",
       "      <td>0.225784</td>\n",
       "      <td>0.254268</td>\n",
       "      <td>0.110599</td>\n",
       "      <td>4.877845</td>\n",
       "      <td>30783.49</td>\n",
       "      <td>33800.59</td>\n",
       "      <td>26985.95</td>\n",
       "      <td>...</td>\n",
       "      <td>186946.755968</td>\n",
       "      <td>21235.030631</td>\n",
       "      <td>23913.918942</td>\n",
       "      <td>10401.864225</td>\n",
       "      <td>458762.056516</td>\n",
       "      <td>149255.850540</td>\n",
       "      <td>16953.771365</td>\n",
       "      <td>19092.560836</td>\n",
       "      <td>8304.712666</td>\n",
       "      <td>366269.639643</td>\n",
       "    </tr>\n",
       "    <tr>\n",
       "      <th>1</th>\n",
       "      <td>Fabricação de automóveis, caminhões e ônibus, ...</td>\n",
       "      <td>32</td>\n",
       "      <td>2.277932</td>\n",
       "      <td>0.368776</td>\n",
       "      <td>0.405587</td>\n",
       "      <td>0.085764</td>\n",
       "      <td>8.012436</td>\n",
       "      <td>23827.59</td>\n",
       "      <td>27125.16</td>\n",
       "      <td>21237.93</td>\n",
       "      <td>...</td>\n",
       "      <td>129757.464625</td>\n",
       "      <td>21006.502128</td>\n",
       "      <td>23103.380346</td>\n",
       "      <td>4885.351069</td>\n",
       "      <td>456411.093248</td>\n",
       "      <td>101594.974949</td>\n",
       "      <td>16447.262310</td>\n",
       "      <td>18089.035219</td>\n",
       "      <td>3825.037125</td>\n",
       "      <td>357351.877357</td>\n",
       "    </tr>\n",
       "    <tr>\n",
       "      <th>2</th>\n",
       "      <td>Fabricação de máquinas e equipamentos mecânicos</td>\n",
       "      <td>31</td>\n",
       "      <td>1.888972</td>\n",
       "      <td>0.393443</td>\n",
       "      <td>0.424634</td>\n",
       "      <td>0.078421</td>\n",
       "      <td>8.434712</td>\n",
       "      <td>15568.81</td>\n",
       "      <td>17353.37</td>\n",
       "      <td>14090.02</td>\n",
       "      <td>...</td>\n",
       "      <td>172095.181706</td>\n",
       "      <td>35844.712612</td>\n",
       "      <td>38686.371999</td>\n",
       "      <td>7144.516089</td>\n",
       "      <td>768446.020038</td>\n",
       "      <td>139732.199114</td>\n",
       "      <td>29104.013664</td>\n",
       "      <td>31411.291017</td>\n",
       "      <td>5800.969759</td>\n",
       "      <td>623937.586259</td>\n",
       "    </tr>\n",
       "    <tr>\n",
       "      <th>3</th>\n",
       "      <td>Fabricação de máquinas e equipamentos elétricos</td>\n",
       "      <td>30</td>\n",
       "      <td>2.038429</td>\n",
       "      <td>0.368945</td>\n",
       "      <td>0.401322</td>\n",
       "      <td>0.086267</td>\n",
       "      <td>8.232016</td>\n",
       "      <td>10274.08</td>\n",
       "      <td>12203.09</td>\n",
       "      <td>7914.03</td>\n",
       "      <td>...</td>\n",
       "      <td>130594.446753</td>\n",
       "      <td>23636.939328</td>\n",
       "      <td>25711.214222</td>\n",
       "      <td>5526.790640</td>\n",
       "      <td>527394.188242</td>\n",
       "      <td>84693.988935</td>\n",
       "      <td>15329.186866</td>\n",
       "      <td>16674.409571</td>\n",
       "      <td>3584.271437</td>\n",
       "      <td>342029.226005</td>\n",
       "    </tr>\n",
       "    <tr>\n",
       "      <th>4</th>\n",
       "      <td>Fabricação de produtos farmoquímicos e farmacê...</td>\n",
       "      <td>23</td>\n",
       "      <td>1.682166</td>\n",
       "      <td>0.338133</td>\n",
       "      <td>0.376008</td>\n",
       "      <td>0.043913</td>\n",
       "      <td>6.242270</td>\n",
       "      <td>9189.94</td>\n",
       "      <td>11750.29</td>\n",
       "      <td>8316.09</td>\n",
       "      <td>...</td>\n",
       "      <td>103771.206044</td>\n",
       "      <td>20859.063722</td>\n",
       "      <td>23195.561303</td>\n",
       "      <td>2708.957883</td>\n",
       "      <td>385079.517813</td>\n",
       "      <td>73442.501323</td>\n",
       "      <td>14762.686813</td>\n",
       "      <td>16416.307631</td>\n",
       "      <td>1917.223963</td>\n",
       "      <td>272534.203606</td>\n",
       "    </tr>\n",
       "    <tr>\n",
       "      <th>5</th>\n",
       "      <td>Fabricação de outros equipamentos de transport...</td>\n",
       "      <td>34</td>\n",
       "      <td>1.717019</td>\n",
       "      <td>0.381328</td>\n",
       "      <td>0.404196</td>\n",
       "      <td>0.055722</td>\n",
       "      <td>6.583870</td>\n",
       "      <td>8766.51</td>\n",
       "      <td>22180.82</td>\n",
       "      <td>3835.61</td>\n",
       "      <td>...</td>\n",
       "      <td>199945.611341</td>\n",
       "      <td>44405.389935</td>\n",
       "      <td>47068.355310</td>\n",
       "      <td>6488.798833</td>\n",
       "      <td>766687.049821</td>\n",
       "      <td>34575.520036</td>\n",
       "      <td>7678.785441</td>\n",
       "      <td>8139.277732</td>\n",
       "      <td>1122.073111</td>\n",
       "      <td>132579.071250</td>\n",
       "    </tr>\n",
       "    <tr>\n",
       "      <th>6</th>\n",
       "      <td>Fabricação de equipamentos de informática, pro...</td>\n",
       "      <td>29</td>\n",
       "      <td>1.656178</td>\n",
       "      <td>0.234018</td>\n",
       "      <td>0.260813</td>\n",
       "      <td>0.108588</td>\n",
       "      <td>5.395175</td>\n",
       "      <td>7149.87</td>\n",
       "      <td>8764.71</td>\n",
       "      <td>6767.39</td>\n",
       "      <td>...</td>\n",
       "      <td>76208.581578</td>\n",
       "      <td>10768.272290</td>\n",
       "      <td>12001.240621</td>\n",
       "      <td>4996.632899</td>\n",
       "      <td>248257.492789</td>\n",
       "      <td>58842.014498</td>\n",
       "      <td>8314.376427</td>\n",
       "      <td>9266.373419</td>\n",
       "      <td>3857.989998</td>\n",
       "      <td>191684.068740</td>\n",
       "    </tr>\n",
       "  </tbody>\n",
       "</table>\n",
       "<p>7 rows × 29 columns</p>\n",
       "</div>"
      ],
      "text/plain": [
       "                                          Atividades  Indice  \\\n",
       "0  Fabricação de químicos orgânicos e inorgânicos...      20   \n",
       "1  Fabricação de automóveis, caminhões e ônibus, ...      32   \n",
       "2    Fabricação de máquinas e equipamentos mecânicos      31   \n",
       "3    Fabricação de máquinas e equipamentos elétricos      30   \n",
       "4  Fabricação de produtos farmoquímicos e farmacê...      23   \n",
       "5  Fabricação de outros equipamentos de transport...      34   \n",
       "6  Fabricação de equipamentos de informática, pro...      29   \n",
       "\n",
       "   Multiplicador de produção  Multiplicador de remuneração  \\\n",
       "0                   1.987735                      0.225784   \n",
       "1                   2.277932                      0.368776   \n",
       "2                   1.888972                      0.393443   \n",
       "3                   2.038429                      0.368945   \n",
       "4                   1.682166                      0.338133   \n",
       "5                   1.717019                      0.381328   \n",
       "6                   1.656178                      0.234018   \n",
       "\n",
       "   Multiplicador de remuneração ajustado  Multiplicador de impostos  \\\n",
       "0                               0.254268                   0.110599   \n",
       "1                               0.405587                   0.085764   \n",
       "2                               0.424634                   0.078421   \n",
       "3                               0.401322                   0.086267   \n",
       "4                               0.376008                   0.043913   \n",
       "5                               0.404196                   0.055722   \n",
       "6                               0.260813                   0.108588   \n",
       "\n",
       "   Multiplicador de ocupações  Estimativa de crescimento pessimista (US$)  \\\n",
       "0                    4.877845                                    30783.49   \n",
       "1                    8.012436                                    23827.59   \n",
       "2                    8.434712                                    15568.81   \n",
       "3                    8.232016                                    10274.08   \n",
       "4                    6.242270                                     9189.94   \n",
       "5                    6.583870                                     8766.51   \n",
       "6                    5.395175                                     7149.87   \n",
       "\n",
       "   Estimativa crescimento otimista (US$)  Valores atuais ( 2021 ) (US$)  ...  \\\n",
       "0                               33800.59                       26985.95  ...   \n",
       "1                               27125.16                       21237.93  ...   \n",
       "2                               17353.37                       14090.02  ...   \n",
       "3                               12203.09                        7914.03  ...   \n",
       "4                               11750.29                        8316.09  ...   \n",
       "5                               22180.82                        3835.61  ...   \n",
       "6                                8764.71                        6767.39  ...   \n",
       "\n",
       "    Impacto otimista na produção   Impacto otimista na remuneração  \\\n",
       "0                  186946.755968                      21235.030631   \n",
       "1                  129757.464625                      21006.502128   \n",
       "2                  172095.181706                      35844.712612   \n",
       "3                  130594.446753                      23636.939328   \n",
       "4                  103771.206044                      20859.063722   \n",
       "5                  199945.611341                      44405.389935   \n",
       "6                   76208.581578                      10768.272290   \n",
       "\n",
       "    Impacto otimista na remuneração ajustado   Impacto otimista na impostos  \\\n",
       "0                               23913.918942                   10401.864225   \n",
       "1                               23103.380346                    4885.351069   \n",
       "2                               38686.371999                    7144.516089   \n",
       "3                               25711.214222                    5526.790640   \n",
       "4                               23195.561303                    2708.957883   \n",
       "5                               47068.355310                    6488.798833   \n",
       "6                               12001.240621                    4996.632899   \n",
       "\n",
       "    Impacto otimista na ocupações   Impacto atual na produção  \\\n",
       "0                   458762.056516               149255.850540   \n",
       "1                   456411.093248               101594.974949   \n",
       "2                   768446.020038               139732.199114   \n",
       "3                   527394.188242                84693.988935   \n",
       "4                   385079.517813                73442.501323   \n",
       "5                   766687.049821                34575.520036   \n",
       "6                   248257.492789                58842.014498   \n",
       "\n",
       "    Impacto atual na remuneração   Impacto atual na remuneração ajustado  \\\n",
       "0                   16953.771365                            19092.560836   \n",
       "1                   16447.262310                            18089.035219   \n",
       "2                   29104.013664                            31411.291017   \n",
       "3                   15329.186866                            16674.409571   \n",
       "4                   14762.686813                            16416.307631   \n",
       "5                    7678.785441                             8139.277732   \n",
       "6                    8314.376427                             9266.373419   \n",
       "\n",
       "    Impacto atual na impostos   Impacto atual na ocupações  \n",
       "0                 8304.712666                366269.639643  \n",
       "1                 3825.037125                357351.877357  \n",
       "2                 5800.969759                623937.586259  \n",
       "3                 3584.271437                342029.226005  \n",
       "4                 1917.223963                272534.203606  \n",
       "5                 1122.073111                132579.071250  \n",
       "6                 3857.989998                191684.068740  \n",
       "\n",
       "[7 rows x 29 columns]"
      ]
     },
     "execution_count": 136,
     "metadata": {},
     "output_type": "execute_result"
    }
   ],
   "source": [
    "df_setores"
   ]
  },
  {
   "cell_type": "code",
   "execution_count": 137,
   "id": "0f535782",
   "metadata": {},
   "outputs": [],
   "source": [
    "df_setores.to_excel('./dados/estimativa_NIB.xlsx')"
   ]
  },
  {
   "cell_type": "markdown",
   "id": "9d5b42ab",
   "metadata": {},
   "source": [
    "# Teste de derivação da MIP a partir da TRU ( Andamento )"
   ]
  },
  {
   "cell_type": "code",
   "execution_count": 12,
   "id": "adfed52c",
   "metadata": {},
   "outputs": [],
   "source": [
    "ConsumoIntermediario = pd.read_excel('./dados/nivel_68_2010_2021_xls/68_tab2_2015.xls',sheet_name='VA',skiprows=5,skipfooter=4,usecols=[*range(1,69)],header=None) # planilha VA\n",
    "Demanda = pd.read_excel('./dados/nivel_68_2010_2021_xls/68_tab2_2015.xls',sheet_name='VA',skiprows=5,skipfooter=4,usecols=[*range(1,69)],header=None) # planilha VA\n"
   ]
  },
  {
   "cell_type": "code",
   "execution_count": null,
   "id": "76e6e76e",
   "metadata": {},
   "outputs": [],
   "source": []
  },
  {
   "cell_type": "code",
   "execution_count": 6,
   "id": "9480fc9a-3f09-4786-ad64-80ec7499bf73",
   "metadata": {},
   "outputs": [
    {
     "name": "stdout",
     "output_type": "stream",
     "text": [
      "[[280 120]\n",
      " [ 12   8]]\n",
      "[575  20]\n"
     ]
    }
   ],
   "source": [
    "Q = np.array([[280,120],[12,8]])\n",
    "q = np.array([575,20])\n",
    "\n",
    "print(Q)\n",
    "print(q)"
   ]
  },
  {
   "cell_type": "code",
   "execution_count": 14,
   "id": "a9b4f348-3548-4e07-b6a0-4ed94f18973a",
   "metadata": {},
   "outputs": [],
   "source": [
    "A= np.matmul(Q,np.linalg.inv(np.diag(q)))"
   ]
  },
  {
   "cell_type": "code",
   "execution_count": 19,
   "id": "f25b0647-93cd-4df6-b40a-732f7fdf1aeb",
   "metadata": {},
   "outputs": [],
   "source": [
    "eigvector,eigvalues = la.eig(np.matrix.transpose(A))"
   ]
  },
  {
   "cell_type": "code",
   "execution_count": 38,
   "id": "cb8ce293-d7ec-4461-a608-cdd7a9652b15",
   "metadata": {},
   "outputs": [],
   "source": [
    "lambdas = max(eigvector).real\n",
    "pos_vec = np.argmax(eigvector)"
   ]
  },
  {
   "cell_type": "code",
   "execution_count": 39,
   "id": "ba4f65ae-c1db-4834-9cdf-d928ff2e46a9",
   "metadata": {},
   "outputs": [],
   "source": [
    "max_eigvectors = eigvalues[:,pos_vec].reshape(2,1)"
   ]
  },
  {
   "cell_type": "code",
   "execution_count": 40,
   "id": "21b168e5-43f5-4e95-bd82-5b831e41d7bc",
   "metadata": {},
   "outputs": [],
   "source": [
    "r = (1-lambdas)/lambdas"
   ]
  },
  {
   "cell_type": "code",
   "execution_count": 37,
   "id": "13ac630d-889b-424c-8cdf-1a006225ee6f",
   "metadata": {},
   "outputs": [
    {
     "data": {
      "text/plain": [
       "0.8"
      ]
     },
     "execution_count": 37,
     "metadata": {},
     "output_type": "execute_result"
    }
   ],
   "source": [
    "lambdas.real"
   ]
  },
  {
   "cell_type": "code",
   "execution_count": 45,
   "id": "50b14906-f40e-4788-a8c4-6dcc5c1ae677",
   "metadata": {},
   "outputs": [
    {
     "data": {
      "text/plain": [
       "array([[ 1.],\n",
       "       [15.]])"
      ]
     },
     "execution_count": 45,
     "metadata": {},
     "output_type": "execute_result"
    }
   ],
   "source": [
    "max_eigvectors/max_eigvectors[0]"
   ]
  },
  {
   "cell_type": "markdown",
   "id": "4940a45b-8e65-412a-aced-69f5bf7b0c73",
   "metadata": {},
   "source": [
    "## Importação de dados reais"
   ]
  },
  {
   "cell_type": "code",
   "execution_count": 1,
   "id": "7fb400a0-8eda-4cb5-adfa-bd3ba468bc2e",
   "metadata": {},
   "outputs": [
    {
     "name": "stdout",
     "output_type": "stream",
     "text": [
      "\u001b[4l\u001b[0m\n",
      "Undefined variable: import\n",
      "\u001b[0m"
     ]
    }
   ],
   "source": [
    "import pandas as pd"
   ]
  },
  {
   "cell_type": "code",
   "execution_count": null,
   "id": "0d0b85bd-ffcd-4559-ac94-d1b39c3c5357",
   "metadata": {},
   "outputs": [],
   "source": []
  }
 ],
 "metadata": {
  "kernelspec": {
   "display_name": "Python 3 (ipykernel)",
   "language": "python",
   "name": "python3"
  },
  "language_info": {
   "codemirror_mode": {
    "name": "ipython",
    "version": 3
   },
   "file_extension": ".py",
   "mimetype": "text/x-python",
   "name": "python",
   "nbconvert_exporter": "python",
   "pygments_lexer": "ipython3",
   "version": "3.12.2"
  }
 },
 "nbformat": 4,
 "nbformat_minor": 5
}
