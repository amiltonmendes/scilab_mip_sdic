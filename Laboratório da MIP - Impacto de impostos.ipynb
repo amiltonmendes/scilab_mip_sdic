{
 "cells": [
  {
   "cell_type": "code",
   "execution_count": 51,
   "id": "bd047f0c-6ef9-4e87-bd8c-5cf5e4c9f438",
   "metadata": {},
   "outputs": [],
   "source": [
    "import numpy as np\n",
    "import pandas as pd"
   ]
  },
  {
   "cell_type": "markdown",
   "id": "7fd05830",
   "metadata": {},
   "source": [
    "# Aula 01 - Utilização prática da Matriz Insumo Produto\n",
    "Objetivos : \n",
    "* Principais conceitos da Matriz Insumo Produto\n",
    "* \n"
   ]
  },
  {
   "cell_type": "code",
   "execution_count": 1,
   "id": "66e799cc",
   "metadata": {},
   "outputs": [],
   "source": [
    "from classes.mip import MIPCalculator\n",
    "\n",
    "\n",
    "Mip = MIPCalculator('dados/MIP_2019_67_PCE.xlsx','dados/nivel_68_2010_2021_xls/68_tab2_2019.xls')"
   ]
  },
  {
   "cell_type": "code",
   "execution_count": 2,
   "id": "472df63d",
   "metadata": {},
   "outputs": [],
   "source": [
    "valor = Mip.detalhes_importacao.loc[72, 'Importação']*0.5\n"
   ]
  },
  {
   "cell_type": "code",
   "execution_count": 13,
   "id": "773a7241",
   "metadata": {},
   "outputs": [],
   "source": [
    "resultados = Mip.calculate_impactos(72,0.1)"
   ]
  },
  {
   "cell_type": "code",
   "execution_count": 14,
   "id": "3da28e50",
   "metadata": {},
   "outputs": [
    {
     "data": {
      "text/plain": [
       "{'Aumento PIB': array([2.03415134e+09]),\n",
       " 'Aumento Produção': np.float64(1323202667.5343735),\n",
       " 'Aumento Ocupações': np.float64(18259.222969871433),\n",
       " 'Aumento Massa Salarial': np.float64(665076816.5332448),\n",
       " 'Aumento Massa Salarial Ampliada': np.float64(769952108.853257)}"
      ]
     },
     "execution_count": 14,
     "metadata": {},
     "output_type": "execute_result"
    }
   ],
   "source": [
    "resultados"
   ]
  },
  {
   "cell_type": "code",
   "execution_count": 15,
   "id": "e1b46a66",
   "metadata": {},
   "outputs": [
    {
     "name": "stdout",
     "output_type": "stream",
     "text": [
      "Massa salarial : 665076816.53\n"
     ]
    }
   ],
   "source": [
    "print(f'Massa salarial : {resultados['Aumento Massa Salarial']:.2f}')"
   ]
  },
  {
   "cell_type": "code",
   "execution_count": 16,
   "id": "4e7f0ce0",
   "metadata": {},
   "outputs": [
    {
     "name": "stdout",
     "output_type": "stream",
     "text": [
      "Aumento no PIB : 2034151342.01\n"
     ]
    }
   ],
   "source": [
    "print(f'Aumento no PIB : {resultados['Aumento PIB'][0]:.2f}')"
   ]
  },
  {
   "cell_type": "code",
   "execution_count": 3,
   "id": "2ea5a7e0",
   "metadata": {},
   "outputs": [
    {
     "data": {
      "text/plain": [
       "(126, 3)"
      ]
     },
     "execution_count": 3,
     "metadata": {},
     "output_type": "execute_result"
    }
   ],
   "source": [
    "Mip.detalhes_importacao.shape"
   ]
  },
  {
   "cell_type": "code",
   "execution_count": 4,
   "id": "4498eacd",
   "metadata": {},
   "outputs": [
    {
     "data": {
      "text/html": [
       "<div>\n",
       "<style scoped>\n",
       "    .dataframe tbody tr th:only-of-type {\n",
       "        vertical-align: middle;\n",
       "    }\n",
       "\n",
       "    .dataframe tbody tr th {\n",
       "        vertical-align: top;\n",
       "    }\n",
       "\n",
       "    .dataframe thead th {\n",
       "        text-align: right;\n",
       "    }\n",
       "</style>\n",
       "<table border=\"1\" class=\"dataframe\">\n",
       "  <thead>\n",
       "    <tr style=\"text-align: right;\">\n",
       "      <th></th>\n",
       "      <th>Produção</th>\n",
       "      <th>Importação</th>\n",
       "      <th>Participação Importação</th>\n",
       "    </tr>\n",
       "  </thead>\n",
       "  <tbody>\n",
       "    <tr>\n",
       "      <th>0</th>\n",
       "      <td>12631</td>\n",
       "      <td>7358</td>\n",
       "      <td>36.810246</td>\n",
       "    </tr>\n",
       "    <tr>\n",
       "      <th>1</th>\n",
       "      <td>43663</td>\n",
       "      <td>862</td>\n",
       "      <td>1.935991</td>\n",
       "    </tr>\n",
       "    <tr>\n",
       "      <th>2</th>\n",
       "      <td>18376</td>\n",
       "      <td>18</td>\n",
       "      <td>0.097858</td>\n",
       "    </tr>\n",
       "    <tr>\n",
       "      <th>3</th>\n",
       "      <td>57068</td>\n",
       "      <td>0</td>\n",
       "      <td>0.000000</td>\n",
       "    </tr>\n",
       "    <tr>\n",
       "      <th>4</th>\n",
       "      <td>153331</td>\n",
       "      <td>270</td>\n",
       "      <td>0.175780</td>\n",
       "    </tr>\n",
       "    <tr>\n",
       "      <th>...</th>\n",
       "      <td>...</td>\n",
       "      <td>...</td>\n",
       "      <td>...</td>\n",
       "    </tr>\n",
       "    <tr>\n",
       "      <th>121</th>\n",
       "      <td>45636</td>\n",
       "      <td>4992</td>\n",
       "      <td>9.860156</td>\n",
       "    </tr>\n",
       "    <tr>\n",
       "      <th>122</th>\n",
       "      <td>93816</td>\n",
       "      <td>0</td>\n",
       "      <td>0.000000</td>\n",
       "    </tr>\n",
       "    <tr>\n",
       "      <th>123</th>\n",
       "      <td>33107</td>\n",
       "      <td>0</td>\n",
       "      <td>0.000000</td>\n",
       "    </tr>\n",
       "    <tr>\n",
       "      <th>124</th>\n",
       "      <td>62283</td>\n",
       "      <td>0</td>\n",
       "      <td>0.000000</td>\n",
       "    </tr>\n",
       "    <tr>\n",
       "      <th>125</th>\n",
       "      <td>75158</td>\n",
       "      <td>0</td>\n",
       "      <td>0.000000</td>\n",
       "    </tr>\n",
       "  </tbody>\n",
       "</table>\n",
       "<p>126 rows × 3 columns</p>\n",
       "</div>"
      ],
      "text/plain": [
       "     Produção  Importação  Participação Importação\n",
       "0       12631        7358                36.810246\n",
       "1       43663         862                 1.935991\n",
       "2       18376          18                 0.097858\n",
       "3       57068           0                 0.000000\n",
       "4      153331         270                 0.175780\n",
       "..        ...         ...                      ...\n",
       "121     45636        4992                 9.860156\n",
       "122     93816           0                 0.000000\n",
       "123     33107           0                 0.000000\n",
       "124     62283           0                 0.000000\n",
       "125     75158           0                 0.000000\n",
       "\n",
       "[126 rows x 3 columns]"
      ]
     },
     "execution_count": 4,
     "metadata": {},
     "output_type": "execute_result"
    }
   ],
   "source": [
    "Mip.detalhes_importacao"
   ]
  },
  {
   "cell_type": "code",
   "execution_count": 12,
   "id": "ac669a20",
   "metadata": {},
   "outputs": [],
   "source": [
    "preco_antes,preco_depois = Mip.calcular_precos(80,aumento_imposto=2)"
   ]
  },
  {
   "cell_type": "code",
   "execution_count": 4,
   "id": "e0946e15",
   "metadata": {},
   "outputs": [],
   "source": [
    "diff = Mip.calculate_differences(preco_antes, preco_depois)"
   ]
  },
  {
   "cell_type": "code",
   "execution_count": 5,
   "id": "9aa7f714",
   "metadata": {},
   "outputs": [
    {
     "name": "stdout",
     "output_type": "stream",
     "text": [
      "Setores com as maiores diferenças:\n",
      "32\n",
      "Setor Fabricação de automóveis, caminhões e ônibus, exceto peças: Diferença = 1.01\n",
      "33\n",
      "Setor Fabricação de peças e acessórios para veículos automotores: Diferença = 0.15\n",
      "26\n",
      "Setor Produção de ferro gusa/ferroligas, siderurgia e tubos de aço sem costura: Diferença = 0.04\n",
      "24\n",
      "Setor Fabricação de produtos de borracha e de material plástico: Diferença = 0.04\n",
      "5\n",
      "Setor Extração de minério de ferro, inclusive beneficiamentos e a aglomeração: Diferença = 0.03\n"
     ]
    }
   ],
   "source": [
    "Mip.show_top_differences(diff)"
   ]
  },
  {
   "cell_type": "code",
   "execution_count": 5,
   "id": "935c8072",
   "metadata": {},
   "outputs": [
    {
     "data": {
      "text/plain": [
       "array([1.23841312, 0.55194852, 0.52085434, 0.6755408 , 1.03724317,\n",
       "       0.18673836, 0.40071663, 0.34455763, 0.31880344, 0.56632606,\n",
       "       0.47481691, 0.57223414, 0.70258506, 0.44012552, 0.39070789,\n",
       "       0.38524116, 0.63632681, 0.41545627, 2.48390888, 0.45883453,\n",
       "       2.4535122 , 1.04097711, 0.46792599, 0.55207552, 0.96902916,\n",
       "       0.5417769 , 0.9107778 , 0.80473754, 0.84556858, 1.23687626,\n",
       "       0.73233401, 0.85498176, 0.32726043, 0.80283702, 0.96812382,\n",
       "       0.42651387, 0.9826814 , 1.44972951, 0.52840358, 0.64567047,\n",
       "       4.59035341, 1.99088253, 0.51791056, 0.49118427, 0.94114844,\n",
       "       0.83316862, 0.62242273, 0.3508896 , 0.71534031, 0.66532583,\n",
       "       0.95720049, 1.84817529, 0.51884036, 1.73160063, 0.82976823,\n",
       "       0.87626445, 1.30486733, 1.47664388, 0.95479088, 0.78946702,\n",
       "       0.8162465 , 0.80044548, 0.61242766, 0.55221757, 0.67919829,\n",
       "       0.60881318, 1.        ])"
      ]
     },
     "execution_count": 5,
     "metadata": {},
     "output_type": "execute_result"
    }
   ],
   "source": [
    "preco_depois"
   ]
  },
  {
   "cell_type": "markdown",
   "id": "06bbf24f",
   "metadata": {},
   "source": [
    "# Extrair informações da MIP"
   ]
  },
  {
   "cell_type": "code",
   "execution_count": 8,
   "id": "12fda94d",
   "metadata": {},
   "outputs": [],
   "source": [
    "#Produção total\n",
    "V = pd.read_excel('./dados/MIP_2019_67_PCE.xlsx',sheet_name='Recursos',skiprows=5,skipfooter=4,usecols=[*range(11,78)],header=None)\n",
    "V = np.transpose(V)\n",
    "#Impostos\n",
    "Imp = pd.read_excel('./dados/MIP_2019_67_PCE.xlsx',sheet_name='Recursos',skiprows=5,skipfooter=4,usecols=[9],header=None)\n",
    "#Consumo intermediário produção nacional\n",
    "Un = pd.read_excel('./dados/MIP_2019_67_PCE.xlsx',sheet_name='Usos Nacional',skiprows=5,skipfooter=4,usecols=[*range(2,69)],header=None)\n",
    "#Demanda Final Nacional\n",
    "Fn = pd.read_excel('./dados/MIP_2019_67_PCE.xlsx',sheet_name='Usos Nacional',skiprows=5,skipfooter=4,usecols=[*range(70,76)],header=None)\n",
    "\n",
    "#Consumo intermediário produção importados\n",
    "Um = pd.read_excel('./dados/MIP_2019_67_PCE.xlsx',sheet_name='Usos Importado',skiprows=5,skipfooter=4,usecols=[*range(2,69)],header=None)\n",
    "#Demanda Final Nacional importados\n",
    "Fm = pd.read_excel('./dados/MIP_2019_67_PCE.xlsx',sheet_name='Usos Importado',skiprows=5,skipfooter=4,usecols=[*range(70,76)],header=None)\n"
   ]
  },
  {
   "cell_type": "code",
   "execution_count": 9,
   "id": "465595c2",
   "metadata": {},
   "outputs": [
    {
     "data": {
      "text/html": [
       "<div>\n",
       "<style scoped>\n",
       "    .dataframe tbody tr th:only-of-type {\n",
       "        vertical-align: middle;\n",
       "    }\n",
       "\n",
       "    .dataframe tbody tr th {\n",
       "        vertical-align: top;\n",
       "    }\n",
       "\n",
       "    .dataframe thead th {\n",
       "        text-align: right;\n",
       "    }\n",
       "</style>\n",
       "<table border=\"1\" class=\"dataframe\">\n",
       "  <thead>\n",
       "    <tr style=\"text-align: right;\">\n",
       "      <th></th>\n",
       "      <th>9</th>\n",
       "    </tr>\n",
       "  </thead>\n",
       "  <tbody>\n",
       "    <tr>\n",
       "      <th>0</th>\n",
       "      <td>425</td>\n",
       "    </tr>\n",
       "    <tr>\n",
       "      <th>1</th>\n",
       "      <td>321</td>\n",
       "    </tr>\n",
       "    <tr>\n",
       "      <th>2</th>\n",
       "      <td>201</td>\n",
       "    </tr>\n",
       "    <tr>\n",
       "      <th>3</th>\n",
       "      <td>1398</td>\n",
       "    </tr>\n",
       "    <tr>\n",
       "      <th>4</th>\n",
       "      <td>470</td>\n",
       "    </tr>\n",
       "    <tr>\n",
       "      <th>...</th>\n",
       "      <td>...</td>\n",
       "    </tr>\n",
       "    <tr>\n",
       "      <th>121</th>\n",
       "      <td>7955</td>\n",
       "    </tr>\n",
       "    <tr>\n",
       "      <th>122</th>\n",
       "      <td>0</td>\n",
       "    </tr>\n",
       "    <tr>\n",
       "      <th>123</th>\n",
       "      <td>1393</td>\n",
       "    </tr>\n",
       "    <tr>\n",
       "      <th>124</th>\n",
       "      <td>859</td>\n",
       "    </tr>\n",
       "    <tr>\n",
       "      <th>125</th>\n",
       "      <td>0</td>\n",
       "    </tr>\n",
       "  </tbody>\n",
       "</table>\n",
       "<p>126 rows × 1 columns</p>\n",
       "</div>"
      ],
      "text/plain": [
       "        9\n",
       "0     425\n",
       "1     321\n",
       "2     201\n",
       "3    1398\n",
       "4     470\n",
       "..    ...\n",
       "121  7955\n",
       "122     0\n",
       "123  1393\n",
       "124   859\n",
       "125     0\n",
       "\n",
       "[126 rows x 1 columns]"
      ]
     },
     "execution_count": 9,
     "metadata": {},
     "output_type": "execute_result"
    }
   ],
   "source": [
    "Imp"
   ]
  },
  {
   "cell_type": "markdown",
   "id": "faf7bf1f",
   "metadata": {},
   "source": [
    "# Extrair informações de impostos detalhados"
   ]
  },
  {
   "cell_type": "code",
   "execution_count": 10,
   "id": "6f70b347",
   "metadata": {},
   "outputs": [],
   "source": [
    "#Impostos\n",
    "Impostos_Detalhados = pd.read_excel('./dados/MIP_2019_67_PCE.xlsx',sheet_name='Recursos',skiprows=5,skipfooter=4,usecols=[*range(5,9)],header=None)\n"
   ]
  },
  {
   "cell_type": "code",
   "execution_count": 11,
   "id": "e53fb19b",
   "metadata": {},
   "outputs": [
    {
     "data": {
      "text/plain": [
       "(126, 4)"
      ]
     },
     "execution_count": 11,
     "metadata": {},
     "output_type": "execute_result"
    }
   ],
   "source": [
    "Impostos_Detalhados.shape"
   ]
  },
  {
   "cell_type": "markdown",
   "id": "dff1d0c0",
   "metadata": {},
   "source": [
    "# Extrair informações da TRU\n"
   ]
  },
  {
   "cell_type": "code",
   "execution_count": 12,
   "id": "ecf88050",
   "metadata": {},
   "outputs": [],
   "source": [
    "#Dados da TRU\n",
    "planilha = pd.read_excel('./dados/nivel_68_2010_2021_xls/68_tab2_2019.xls',sheet_name='VA',skiprows=5,skipfooter=4,usecols=[*range(1,69)],header=None) # planilha VA\n",
    "VAB = planilha.iloc[0,:].to_numpy()#Valor adicionado bruto\n",
    "W = planilha.loc[1,:].to_numpy()#Remuneracoes\n",
    "RMB = planilha.loc[8,:].to_numpy()#Rendimento misto bruto\n",
    "Out_Imp = planilha.loc[10,:].to_numpy()# outros impostos e subsidios\n",
    "Sub = planilha.loc[11,:].to_numpy()# outros impostos e subsidios\n",
    "Imp_ou_sub = Out_Imp + Sub\n",
    "VBP = planilha.iloc[12,:].to_numpy()#Valor bruto de produção\n",
    "o = planilha.loc[13,:]# ocupações\n",
    "\n",
    "#Matriz para agregação de 68 atividades em 67 da TRU\n",
    "agg_68_67 = np.concatenate((np.eye(67,41),np.concatenate((np.zeros((40,27)),np.eye(27,27)))),axis=1)\n",
    "#Transformação nas matrizes para 67 atividades\n",
    "VAB = np.matmul(agg_68_67,VAB.transpose())\n",
    "W = np.matmul(agg_68_67,W.transpose())\n",
    "RMB = np.matmul(agg_68_67,RMB.transpose())\n",
    "Out_Imp = np.matmul(agg_68_67,Out_Imp.transpose())\n",
    "Sub = np.matmul(agg_68_67,Sub.transpose())\n",
    "Imp_ou_sub = np.matmul(agg_68_67,Imp_ou_sub.transpose())\n",
    "VBP = np.matmul(agg_68_67,VBP.transpose())\n",
    "\n",
    "o = np.matmul(agg_68_67,o.transpose())\n"
   ]
  },
  {
   "cell_type": "markdown",
   "id": "4268a207",
   "metadata": {},
   "source": [
    "# Derivar informações da MIP"
   ]
  },
  {
   "cell_type": "code",
   "execution_count": 37,
   "id": "9fceaae0",
   "metadata": {},
   "outputs": [],
   "source": [
    "valor = Mip.detalhes_importacao.loc[1, 'Importação']*0.5\n",
    "delta = np.zeros(Mip.V.shape[1])\n"
   ]
  },
  {
   "cell_type": "code",
   "execution_count": 38,
   "id": "b7808a62",
   "metadata": {},
   "outputs": [],
   "source": [
    "delta[2] = valor\n",
    "\n",
    "impacto_setorial =  Mip.D @ delta\n",
    "\n",
    "\n"
   ]
  },
  {
   "cell_type": "code",
   "execution_count": 39,
   "id": "0d0a2d47",
   "metadata": {},
   "outputs": [
    {
     "data": {
      "text/plain": [
       "(67, 67)"
      ]
     },
     "execution_count": 39,
     "metadata": {},
     "output_type": "execute_result"
    }
   ],
   "source": [
    "Mip.L.shape"
   ]
  },
  {
   "cell_type": "code",
   "execution_count": 40,
   "id": "c6abafc6",
   "metadata": {},
   "outputs": [],
   "source": [
    "impacto_total = Mip.L @ impacto_setorial"
   ]
  },
  {
   "cell_type": "code",
   "execution_count": 42,
   "id": "861f9a11",
   "metadata": {},
   "outputs": [
    {
     "data": {
      "text/plain": [
       "(67,)"
      ]
     },
     "execution_count": 42,
     "metadata": {},
     "output_type": "execute_result"
    }
   ],
   "source": [
    "impacto_total.shape"
   ]
  },
  {
   "cell_type": "code",
   "execution_count": null,
   "id": "c9ea01b0",
   "metadata": {},
   "outputs": [],
   "source": [
    "g = np.matmul(V,np.ones(126)) ## Produção total por setor de atividade No caso da MIP estimada, o transporte aquaviário foi fundido com o terrestre de cargas\n",
    "q = np.transpose(np.matmul(np.transpose(np.ones(67)),V)) ## Produção total por produto\n",
    "D = np.matmul(V,np.linalg.inv(np.diag(q))) # participação do serviço/produto na produção total do setor\n",
    "\n",
    "Bn = np.matmul(Un,np.linalg.inv(np.diag(g))) # participação do consumo intermediário nacional na produção nacional, por setor\n",
    "A = np.matmul(D,Bn) # coeficientes técnicos intersetoriais nacionais\n",
    "fn = np.matmul(Fn,np.transpose(np.ones(6))) # soma da demanda final\n",
    "e = np.matmul(D,fn) #Demanda final ( nacional )\n",
    "\n",
    "Bm = np.matmul(Um,np.linalg.inv(np.diag(g))) # consumo intermediário importado\n",
    "Am = np.matmul(D,Bm) # coeficientes técnicos intersetoriais importados\n",
    "Fm = np.matmul(Fm,np.transpose(np.ones(6))) # soma da demanda final importada\n",
    "e_m = np.matmul(D,Fm) #Demanda final ( importada )\n",
    "\n",
    "\n",
    "A_plus = np.matmul(D,Bn+Bm) # coeficientes técnicos ampliada ( contém insumos nacionais e importados )\n",
    "L = np.linalg.inv(np.eye(A.shape[0])-A) # leontief\n",
    "L_plus = np.linalg.inv(np.eye(A_plus.shape[0])-A_plus) # leontief expandida\n",
    "\n",
    "l=np.matmul(np.linalg.inv(np.diag(g)),o)#Postos de trabalho por unidade (Milhão) de produção \n",
    "\n"
   ]
  },
  {
   "cell_type": "code",
   "execution_count": 22,
   "id": "e69d4bfd",
   "metadata": {},
   "outputs": [
    {
     "data": {
      "text/plain": [
       "0       12631.0\n",
       "1       43663.0\n",
       "2       18376.0\n",
       "3       57068.0\n",
       "4      153331.0\n",
       "         ...   \n",
       "121     45636.0\n",
       "122     93816.0\n",
       "123     33107.0\n",
       "124     62283.0\n",
       "125     75158.0\n",
       "Length: 126, dtype: float64"
      ]
     },
     "execution_count": 22,
     "metadata": {},
     "output_type": "execute_result"
    }
   ],
   "source": [
    "q"
   ]
  },
  {
   "cell_type": "code",
   "execution_count": 21,
   "id": "21ad7283",
   "metadata": {},
   "outputs": [
    {
     "data": {
      "text/plain": [
       "11    415308.0\n",
       "12    163008.0\n",
       "13     38200.0\n",
       "14     20360.0\n",
       "15    254621.0\n",
       "        ...   \n",
       "73    217052.0\n",
       "74    324104.0\n",
       "75     46576.0\n",
       "76    185099.0\n",
       "77     75158.0\n",
       "Length: 67, dtype: float64"
      ]
     },
     "execution_count": 21,
     "metadata": {},
     "output_type": "execute_result"
    }
   ],
   "source": [
    "g"
   ]
  },
  {
   "cell_type": "code",
   "execution_count": 231,
   "id": "903501ec",
   "metadata": {},
   "outputs": [
    {
     "data": {
      "text/html": [
       "<div>\n",
       "<style scoped>\n",
       "    .dataframe tbody tr th:only-of-type {\n",
       "        vertical-align: middle;\n",
       "    }\n",
       "\n",
       "    .dataframe tbody tr th {\n",
       "        vertical-align: top;\n",
       "    }\n",
       "\n",
       "    .dataframe thead th {\n",
       "        text-align: right;\n",
       "    }\n",
       "</style>\n",
       "<table border=\"1\" class=\"dataframe\">\n",
       "  <thead>\n",
       "    <tr style=\"text-align: right;\">\n",
       "      <th></th>\n",
       "      <th>5</th>\n",
       "      <th>6</th>\n",
       "      <th>7</th>\n",
       "      <th>8</th>\n",
       "    </tr>\n",
       "  </thead>\n",
       "  <tbody>\n",
       "    <tr>\n",
       "      <th>11</th>\n",
       "      <td>452.216018</td>\n",
       "      <td>76.615622</td>\n",
       "      <td>4794.850034</td>\n",
       "      <td>3070.977440</td>\n",
       "    </tr>\n",
       "    <tr>\n",
       "      <th>12</th>\n",
       "      <td>38.174084</td>\n",
       "      <td>58.089259</td>\n",
       "      <td>3175.733639</td>\n",
       "      <td>2414.158253</td>\n",
       "    </tr>\n",
       "  </tbody>\n",
       "</table>\n",
       "</div>"
      ],
      "text/plain": [
       "             5          6            7            8\n",
       "11  452.216018  76.615622  4794.850034  3070.977440\n",
       "12   38.174084  58.089259  3175.733639  2414.158253"
      ]
     },
     "execution_count": 231,
     "metadata": {},
     "output_type": "execute_result"
    }
   ],
   "source": [
    "share_impostos = np.matmul(D,Impostos_Detalhados)\n",
    "share_impostos.head(2)"
   ]
  },
  {
   "cell_type": "markdown",
   "id": "a6c4b94a",
   "metadata": {},
   "source": [
    "# Calcular dados para a economia após o aumento de imposto de importação\n"
   ]
  },
  {
   "cell_type": "code",
   "execution_count": 90,
   "id": "c969a2fc",
   "metadata": {},
   "outputs": [],
   "source": [
    "##Calcular a participação da importação do produto na produção total\n",
    "DemandaTotalNacionalEImportado = pd.read_excel('./dados/MIP_2019_67_PCE.xlsx',sheet_name='Recursos',skiprows=5,skipfooter=4,usecols=[78,79],header=None)\n",
    "DemandaTotalNacionalEImportado['Participação Importação'] =DemandaTotalNacionalEImportado[79]/(DemandaTotalNacionalEImportado[78]+DemandaTotalNacionalEImportado[79])\n",
    "DemandaTotalNacionalEImportado['Participação Importação']=DemandaTotalNacionalEImportado['Participação Importação']*100"
   ]
  },
  {
   "cell_type": "code",
   "execution_count": 92,
   "id": "18871fd7",
   "metadata": {},
   "outputs": [],
   "source": [
    "#Share de importação por setor\n",
    "total_importacao = np.matmul(D,DemandaTotalNacionalEImportado[79])"
   ]
  },
  {
   "cell_type": "code",
   "execution_count": 94,
   "id": "8f0a7578",
   "metadata": {},
   "outputs": [
    {
     "data": {
      "text/plain": [
       "(67,)"
      ]
     },
     "execution_count": 94,
     "metadata": {},
     "output_type": "execute_result"
    }
   ],
   "source": [
    "total_importacao.shape"
   ]
  },
  {
   "cell_type": "code",
   "execution_count": 140,
   "id": "aa850610",
   "metadata": {},
   "outputs": [],
   "source": [
    "#Carregar dados de produção a preços de mercados\n",
    "precos_mercado = pd.read_excel('./dados/MIP_2019_67_PCE.xlsx',sheet_name='Recursos',skiprows=5,skipfooter=4,usecols=[2],header=None)"
   ]
  },
  {
   "cell_type": "code",
   "execution_count": 143,
   "id": "9d937c1c",
   "metadata": {},
   "outputs": [],
   "source": [
    "precos_mercado = precos_mercado[2]"
   ]
  },
  {
   "cell_type": "code",
   "execution_count": 145,
   "id": "c5eefb26",
   "metadata": {},
   "outputs": [],
   "source": [
    "precos_mercado = np.matmul(D,precos_mercado)"
   ]
  },
  {
   "cell_type": "code",
   "execution_count": 232,
   "id": "ed0b1df3",
   "metadata": {},
   "outputs": [],
   "source": [
    "#Calcular custo antes do aumento de imposto\n",
    "\n",
    "#Remunerações + impostos + excedentes brutos\n",
    "custo = W\n",
    "custo = np.add(custo,share_impostos.sum(axis=1))\n",
    "custo = np.add(custo,RMB)\n",
    "custo = np.add(custo,Imp_ou_sub)\n",
    "custo =np.add(total_importacao,custo)\n",
    "\n",
    "#Custo por unidade de produção\n",
    "custo = np.divide(custo,precos_mercado)\n",
    "\n",
    "\n"
   ]
  },
  {
   "cell_type": "markdown",
   "id": "9298c2a3",
   "metadata": {},
   "source": [
    "# Cálculo de preços"
   ]
  },
  {
   "cell_type": "code",
   "execution_count": 270,
   "id": "9b002196",
   "metadata": {},
   "outputs": [],
   "source": [
    "#Aumentar imposto de automóveis em 10% de 30% da produção\n",
    "#share_impostos = np.matmul(D,Impostos_Detalhados)\n",
    "participacao_setor = 1\n",
    "aumento_imposto = 1\n",
    "#Aumento de imposto de 10% em 30% da produção\n",
    "Impostos_Detalhados_alterados = Impostos_Detalhados.copy()\n",
    "Impostos_Detalhados_alterados.loc[80:82,5] = Impostos_Detalhados_alterados.loc[80:82,5]*(1.0+aumento_imposto*participacao_setor)\n",
    "\n",
    "share_impostos_alterados = np.matmul(D,Impostos_Detalhados_alterados)\n",
    "\n"
   ]
  },
  {
   "cell_type": "code",
   "execution_count": 271,
   "id": "7228e4bc",
   "metadata": {},
   "outputs": [],
   "source": [
    "#Calcular custo antes do aumento de imposto\n",
    "#produto\n",
    "\n",
    "#Remunerações + impostos + excedentes brutos\n",
    "custo = W\n",
    "custo = np.add(custo,share_impostos.sum(axis=1))\n",
    "custo = np.add(custo,RMB)\n",
    "custo = np.add(custo,Imp_ou_sub)\n",
    "custo =np.add(total_importacao,custo)\n",
    "\n",
    "#Custo por unidade de produção\n",
    "custo = np.divide(custo,precos_mercado)\n",
    "\n",
    "#Calculo de preço\n",
    "preco_antes_aumento = np.matmul(L_plus,custo)\n",
    "\n",
    "#Calcular custo antes do aumento de imposto\n",
    "#produto\n",
    "\n",
    "#Remunerações + impostos + excedentes brutos\n",
    "custo = W\n",
    "custo = np.add(custo,share_impostos_alterados.sum(axis=1))\n",
    "custo = np.add(custo,RMB)\n",
    "custo = np.add(custo,Imp_ou_sub)\n",
    "custo =np.add(total_importacao,custo)\n",
    "#Custo por unidade de produção\n",
    "custo = np.divide(custo,precos_mercado)\n",
    "\n",
    "\n",
    "\n",
    "precos_depois_aumento = np.matmul(L_plus,custo)\n"
   ]
  },
  {
   "cell_type": "code",
   "execution_count": 272,
   "id": "ef34c281",
   "metadata": {},
   "outputs": [
    {
     "data": {
      "text/plain": [
       "np.float64(58.418683726728)"
      ]
     },
     "execution_count": 272,
     "metadata": {},
     "output_type": "execute_result"
    }
   ],
   "source": [
    "preco_antes_aumento.sum()"
   ]
  },
  {
   "cell_type": "code",
   "execution_count": 273,
   "id": "c4184dca",
   "metadata": {},
   "outputs": [
    {
     "data": {
      "text/plain": [
       "np.float64(58.47831926858764)"
      ]
     },
     "execution_count": 273,
     "metadata": {},
     "output_type": "execute_result"
    }
   ],
   "source": [
    "precos_depois_aumento.sum()"
   ]
  },
  {
   "cell_type": "code",
   "execution_count": 274,
   "id": "3a3914e3",
   "metadata": {},
   "outputs": [
    {
     "data": {
      "text/plain": [
       "np.float64(0.10208299478058347)"
      ]
     },
     "execution_count": 274,
     "metadata": {},
     "output_type": "execute_result"
    }
   ],
   "source": [
    "100*((precos_depois_aumento.sum()/preco_antes_aumento.sum())-1)"
   ]
  },
  {
   "cell_type": "code",
   "execution_count": 275,
   "id": "15589cc2",
   "metadata": {},
   "outputs": [
    {
     "data": {
      "image/png": "[encoded data removed]",
      "text/plain": [
       "<Figure size 1000x800 with 2 Axes>"
      ]
     },
     "metadata": {},
     "output_type": "display_data"
    }
   ],
   "source": [
    "import matplotlib.pyplot as plt\n",
    "import seaborn as sns\n",
    "import matplotlib.cm as cm\n",
    "import matplotlib.colors as mcolors\n",
    "import matplotlib.patches as mpatches\n",
    "result = precos_depois_aumento / preco_antes_aumento\n",
    "\n",
    "# Calcular a diferença absoluta entre os valores\n",
    "difference = np.abs(precos_depois_aumento - preco_antes_aumento)\n",
    "# Garantir que 'difference' seja uma matriz 2D\n",
    "if len(difference.shape) == 1:\n",
    "    difference = difference.reshape(-1, 1)  # Transformar em matriz 2D\n",
    "\n",
    "# Identificar as posições com maior diferença\n",
    "max_diff_positions = np.unravel_index(np.argsort(difference.ravel())[::-1], difference.shape)\n",
    "\n",
    "# Visualizar as diferenças\n",
    "plt.figure(figsize=(10, 8))\n",
    "plt.imshow(difference, cmap='hot', interpolation='nearest')\n",
    "plt.colorbar(label='Diferença Absoluta')\n",
    "plt.title('Mapa de Diferenças Absolutas')\n",
    "plt.xlabel('Colunas')\n",
    "plt.ylabel('Linhas')\n",
    "\n",
    "# Destacar as posições com maior diferença\n",
    "for i in range(5):  # Exibir as 5 maiores diferenças\n",
    "    y, x = max_diff_positions[0][i], max_diff_positions[1][i]\n",
    "    plt.text(x, y, f'{difference[y, x]:.2f}', color='white', ha='center', va='center')\n",
    "\n",
    "plt.show()"
   ]
  },
  {
   "cell_type": "code",
   "execution_count": 276,
   "id": "89f81b39",
   "metadata": {},
   "outputs": [
    {
     "name": "stdout",
     "output_type": "stream",
     "text": [
      "Setores com as maiores diferenças:\n",
      "Setor 33: Diferença = 1.97\n",
      "Setor 32: Diferença = 0.63\n",
      "Setor 40: Diferença = 0.45\n",
      "Setor 26: Diferença = 0.29\n",
      "Setor 24: Diferença = 0.20\n"
     ]
    }
   ],
   "source": [
    "# Garantir que 'difference' seja uma matriz 2D\n",
    "if len(difference.shape) == 1:\n",
    "    difference = difference.reshape(-1, 1)  # Transformar em matriz 2D\n",
    "\n",
    "# Identificar as posições com maior diferença\n",
    "max_diff_positions = np.unravel_index(np.argsort(difference.ravel())[::-1], difference.shape)\n",
    "\n",
    "# Mostrar os setores com as maiores diferenças\n",
    "print(\"Setores com as maiores diferenças:\")\n",
    "for i in range(5):  # Exibir os 5 setores com maiores diferenças\n",
    "    setor = max_diff_positions[0][i]\n",
    "    valor_diferenca = difference[setor, 0]*100\n",
    "    print(f\"Setor {setor}: Diferença = {valor_diferenca:.2f}\")"
   ]
  },
  {
   "cell_type": "code",
   "execution_count": null,
   "id": "4e1649f5",
   "metadata": {},
   "outputs": [
    {
     "name": "stderr",
     "output_type": "stream",
     "text": [
      "/tmp/ipykernel_91150/2554422769.py:7: FutureWarning: Setting an item of incompatible dtype is deprecated and will raise an error in a future version of pandas. Value '[2108.4  249.6 3642. ]' has dtype incompatible with int64, please explicitly cast to a compatible dtype first.\n",
      "  Impostos_Detalhados_alterados.loc[80:82,5] = Impostos_Detalhados_alterados.loc[80:82,5]*(1.0+aumento_imposto*participacao_setor)\n"
     ]
    }
   ],
   "source": [
    "#Aumentar imposto de automóveis em 10% de 30% da produção\n",
    "#share_impostos = np.matmul(D,Impostos_Detalhados)\n",
    "participacao_setor = 1\n",
    "aumento_imposto = .2\n",
    "#Aumento de imposto de 10% em 30% da produção\n",
    "Impostos_Detalhados_alterados = Impostos_Detalhados.copy()\n",
    "Impostos_Detalhados_alterados.loc[80:82,5] = Impostos_Detalhados_alterados.loc[80:82,5]*(1.0+aumento_imposto*participacao_setor)\n",
    "\n",
    "share_impostos_alterados = np.matmul(D,Impostos_Detalhados_alterados)\n",
    "\n"
   ]
  },
  {
   "cell_type": "code",
   "execution_count": 258,
   "id": "feae7fb5",
   "metadata": {},
   "outputs": [],
   "source": [
    "#Calcular custo antes do aumento de imposto\n",
    "#produto\n",
    "\n",
    "#Remunerações + impostos + excedentes brutos\n",
    "custo = W\n",
    "custo = np.add(custo,share_impostos.sum(axis=1))\n",
    "custo = np.add(custo,RMB)\n",
    "custo = np.add(custo,Imp_ou_sub)\n",
    "custo =np.add(total_importacao,custo)\n",
    "\n",
    "#Custo por unidade de produção\n",
    "custo = np.divide(custo,precos_mercado)\n",
    "\n",
    "#Calculo de preço\n",
    "preco_antes_aumento = np.matmul(L,custo)\n",
    "\n",
    "#Calcular custo antes do aumento de imposto\n",
    "#produto\n",
    "\n",
    "#Remunerações + impostos + excedentes brutos\n",
    "custo = W\n",
    "custo = np.add(custo,share_impostos_alterados.sum(axis=1))\n",
    "custo = np.add(custo,RMB)\n",
    "custo = np.add(custo,Imp_ou_sub)\n",
    "custo =np.add(total_importacao,custo)\n",
    "#Custo por unidade de produção\n",
    "custo = np.divide(custo,precos_mercado)\n",
    "\n",
    "\n",
    "\n",
    "precos_depois_aumento = np.matmul(L,custo)\n"
   ]
  },
  {
   "cell_type": "code",
   "execution_count": 259,
   "id": "ec02f5a4",
   "metadata": {},
   "outputs": [
    {
     "data": {
      "text/plain": [
       "np.float64(48.649132802108575)"
      ]
     },
     "execution_count": 259,
     "metadata": {},
     "output_type": "execute_result"
    }
   ],
   "source": [
    "preco_antes_aumento.sum()"
   ]
  },
  {
   "cell_type": "code",
   "execution_count": 260,
   "id": "68b455c4",
   "metadata": {},
   "outputs": [
    {
     "data": {
      "text/plain": [
       "np.float64(48.65825077399409)"
      ]
     },
     "execution_count": 260,
     "metadata": {},
     "output_type": "execute_result"
    }
   ],
   "source": [
    "precos_depois_aumento.sum()"
   ]
  },
  {
   "cell_type": "code",
   "execution_count": 261,
   "id": "a44effb8",
   "metadata": {},
   "outputs": [
    {
     "data": {
      "text/plain": [
       "np.float64(0.018742311240371734)"
      ]
     },
     "execution_count": 261,
     "metadata": {},
     "output_type": "execute_result"
    }
   ],
   "source": [
    "100*((precos_depois_aumento.sum()/preco_antes_aumento.sum())-1)"
   ]
  },
  {
   "cell_type": "code",
   "execution_count": 262,
   "id": "758949af",
   "metadata": {},
   "outputs": [
    {
     "data": {
      "image/png": "[encoded data removed]",
      "text/plain": [
       "<Figure size 1000x800 with 2 Axes>"
      ]
     },
     "metadata": {},
     "output_type": "display_data"
    }
   ],
   "source": [
    "import matplotlib.pyplot as plt\n",
    "import seaborn as sns\n",
    "import matplotlib.cm as cm\n",
    "import matplotlib.colors as mcolors\n",
    "import matplotlib.patches as mpatches\n",
    "result = precos_depois_aumento / preco_antes_aumento\n",
    "\n",
    "# Calcular a diferença absoluta entre os valores\n",
    "difference = np.abs(precos_depois_aumento - preco_antes_aumento)\n",
    "# Garantir que 'difference' seja uma matriz 2D\n",
    "if len(difference.shape) == 1:\n",
    "    difference = difference.reshape(-1, 1)  # Transformar em matriz 2D\n",
    "\n",
    "# Identificar as posições com maior diferença\n",
    "max_diff_positions = np.unravel_index(np.argsort(difference.ravel())[::-1], difference.shape)\n",
    "\n",
    "# Visualizar as diferenças\n",
    "plt.figure(figsize=(10, 8))\n",
    "plt.imshow(difference, cmap='hot', interpolation='nearest')\n",
    "plt.colorbar(label='Diferença Absoluta')\n",
    "plt.title('Mapa de Diferenças Absolutas')\n",
    "plt.xlabel('Colunas')\n",
    "plt.ylabel('Linhas')\n",
    "\n",
    "# Destacar as posições com maior diferença\n",
    "for i in range(5):  # Exibir as 5 maiores diferenças\n",
    "    y, x = max_diff_positions[0][i], max_diff_positions[1][i]\n",
    "    plt.text(x, y, f'{difference[y, x]:.2f}', color='white', ha='center', va='center')\n",
    "\n",
    "plt.show()"
   ]
  },
  {
   "cell_type": "code",
   "execution_count": 263,
   "id": "766b8c2a",
   "metadata": {},
   "outputs": [
    {
     "name": "stdout",
     "output_type": "stream",
     "text": [
      "Setores com as maiores diferenças:\n",
      "Setor 33: Diferença = 0.36\n",
      "Setor 32: Diferença = 0.12\n",
      "Setor 40: Diferença = 0.07\n",
      "Setor 26: Diferença = 0.04\n",
      "Setor 41: Diferença = 0.03\n"
     ]
    }
   ],
   "source": [
    "# Garantir que 'difference' seja uma matriz 2D\n",
    "if len(difference.shape) == 1:\n",
    "    difference = difference.reshape(-1, 1)  # Transformar em matriz 2D\n",
    "\n",
    "# Identificar as posições com maior diferença\n",
    "max_diff_positions = np.unravel_index(np.argsort(difference.ravel())[::-1], difference.shape)\n",
    "\n",
    "# Mostrar os setores com as maiores diferenças\n",
    "print(\"Setores com as maiores diferenças:\")\n",
    "for i in range(5):  # Exibir os 5 setores com maiores diferenças\n",
    "    setor = max_diff_positions[0][i]\n",
    "    valor_diferenca = difference[setor, 0]*100\n",
    "    print(f\"Setor {setor}: Diferença = {valor_diferenca:.2f}\")"
   ]
  },
  {
   "cell_type": "markdown",
   "id": "61fe2995",
   "metadata": {},
   "source": [
    "# Cálculo dos multiplicadores"
   ]
  },
  {
   "cell_type": "code",
   "execution_count": 10,
   "id": "f9e6ca5f",
   "metadata": {},
   "outputs": [],
   "source": [
    "w = np.matmul(np.linalg.inv(np.diag(g)),W) # participação de remuneracoes pela produção total, para cada atividade\n",
    "wa = np.matmul(np.linalg.inv(np.diag(g)),W+RMB) # participação de remuneracoes pela produção total, para cada atividade\n",
    "\n",
    "y=np.matmul(np.linalg.inv(np.diag(g)),VAB) # participação de valor agregado pela produção total, para cada atividade\n",
    "tp=np.matmul(np.matmul(np.linalg.inv(np.diag(g)),D),Imp)#Divisão de impostos pelo market share de cada produto\n",
    "\n",
    "to=np.matmul(np.matmul(np.diag(y),np.linalg.inv(np.diag(VAB))),Imp_ou_sub)#Outros impostos sobre a produção\n",
    "\n",
    "tn = tp[8].to_numpy()+to #Total de impostos sobre produção nacional\n"
   ]
  },
  {
   "cell_type": "code",
   "execution_count": 11,
   "id": "8130c6cf",
   "metadata": {},
   "outputs": [],
   "source": [
    "\n",
    "massa_salarial = np.matmul(w.transpose(),np.matmul(L,e))\n",
    "pib = np.matmul(np.matmul(y.transpose()+tp.transpose(),L),e.to_numpy())\n",
    "Valor_Agregado = np.matmul(np.matmul(y.transpose(),L),e)"
   ]
  },
  {
   "cell_type": "code",
   "execution_count": 12,
   "id": "97e70b10",
   "metadata": {},
   "outputs": [
    {
     "name": "stdout",
     "output_type": "stream",
     "text": [
      "Aumento no consumo intermediário importado de 120591.27 \n",
      "Aumento no valor agregado de produção de 792550.11 \n",
      "Aumento no PIB de 855268.03 \n",
      "Aumento nas ocupações (postos de trabalho) de 22.74 \n",
      "Aumento na massa salarial de 364504.47 \n",
      "Aumento na massa salarial ampliada de 508903.16 \n"
     ]
    }
   ],
   "source": [
    "#Calcular o incremento de uma unidade (milhão) na atividade identificadada por 1 no vetor arr\n",
    "arr = np.zeros(67)\n",
    "arr[7]=1\n",
    "\n",
    "print(\"Aumento no consumo intermediário importado de {:0.2f} \".format(np.matmul(np.ones(67),np.matmul(np.matmul(np.matmul(D,Bm),L),arr)*1000000)))#aumento de consumo intermediário importado\n",
    "print(\"Aumento no valor agregado de produção de {:0.2f} \".format(np.matmul(np.matmul(y.transpose(),L),arr)*1000000))\n",
    "print(\"Aumento no PIB de {:0.2f} \".format(np.matmul(np.matmul(y.transpose()+tp.transpose(),L),arr).values[0]*1000000))\n",
    "print(\"Aumento nas ocupações (postos de trabalho) de {:0.2f} \".format(np.matmul(np.matmul(l,L),arr)))\n",
    "print(\"Aumento na massa salarial de {:0.2f} \".format(np.matmul(np.matmul(w,L),arr)*1000000))\n",
    "print(\"Aumento na massa salarial ampliada de {:0.2f} \".format(np.matmul(np.matmul(wa,L),arr)*1000000))"
   ]
  },
  {
   "cell_type": "markdown",
   "id": "f8fb9e87",
   "metadata": {},
   "source": [
    "# Cálculo dos multiplicadores para trás - Total"
   ]
  },
  {
   "cell_type": "code",
   "execution_count": 13,
   "id": "c5e2163f",
   "metadata": {},
   "outputs": [],
   "source": [
    "mul_prod = np.matmul(np.ones(67).transpose(),L)#Multiplicador para produção\n",
    "mul_sal = np.matmul(w.transpose(),L)#multiplicador de remunerações\n",
    "mul_sal_ajus = np.matmul(wa.transpose(),L)#multiplicador de remunerações ajustado\n",
    "mul_imp = np.matmul(tp[8].transpose(),L)#multiplicador de impostos\n",
    "mul_ocup = np.matmul(l.transpose(),L)#Multiplicador de ocupações\n"
   ]
  },
  {
   "cell_type": "code",
   "execution_count": 14,
   "id": "bafb148a",
   "metadata": {},
   "outputs": [],
   "source": [
    "poder_dispersao = 67*mul_prod / np.matmul(np.matmul(np.ones(67).transpose(),L),np.ones(67).transpose()) #multiplicador de produção normalizado"
   ]
  },
  {
   "cell_type": "code",
   "execution_count": 15,
   "id": "d6c2c824",
   "metadata": {},
   "outputs": [],
   "source": [
    "#Bn = np.matmul(np.linalg.inv(np.diag(g)),D) # consumo intermediário nacional\n",
    "#Sensibilidade de dispersão (Gosh)\n",
    "\n",
    "\n",
    "B = np.matmul(np.matmul(np.linalg.inv(np.diag(g)),D),Un) #coeficientes técnicos a jusante\n",
    "G = np.linalg.inv(np.eye(B.shape[0])-B) #matriz inversa de Gosh\n",
    "mul_prod_jus = np.matmul(G,np.ones(67))\n",
    "sensibilidade_dispersao = 67*mul_prod_jus / np.matmul(np.matmul(np.ones(67),G),np.ones(67)) #multiplicador a jusante normalizado\n"
   ]
  }
 ],
 "metadata": {
  "kernelspec": {
   "display_name": "Mip",
   "language": "python",
   "name": "python3"
  },
  "language_info": {
   "codemirror_mode": {
    "name": "ipython",
    "version": 3
   },
   "file_extension": ".py",
   "mimetype": "text/x-python",
   "name": "python",
   "nbconvert_exporter": "python",
   "pygments_lexer": "ipython3",
   "version": "3.13.2"
  }
 },
 "nbformat": 4,
 "nbformat_minor": 5
}
