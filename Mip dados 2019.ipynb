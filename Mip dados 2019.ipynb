{
 "cells": [
  {
   "cell_type": "code",
   "execution_count": 1,
   "id": "bd047f0c-6ef9-4e87-bd8c-5cf5e4c9f438",
   "metadata": {},
   "outputs": [],
   "source": [
    "import numpy as np\n",
    "import scipy.linalg as la\n",
    "import pandas as pd"
   ]
  },
  {
   "cell_type": "markdown",
   "id": "06bbf24f",
   "metadata": {},
   "source": [
    "# Extrair informações da MIP"
   ]
  },
  {
   "cell_type": "code",
   "execution_count": 2,
   "id": "12fda94d",
   "metadata": {},
   "outputs": [],
   "source": [
    "#Produção total\n",
    "V = pd.read_excel('./dados/MIP_2019_67_PCE.xlsx',sheet_name='Recursos',skiprows=5,skipfooter=4,usecols=[*range(11,78)],header=None)\n",
    "V = np.transpose(V)\n",
    "#Impostos\n",
    "Imp = pd.read_excel('./dados/MIP_2019_67_PCE.xlsx',sheet_name='Recursos',skiprows=5,skipfooter=4,usecols=[8],header=None)\n",
    "#Consumo intermediário produção nacional\n",
    "Un = pd.read_excel('./dados/MIP_2019_67_PCE.xlsx',sheet_name='Usos Nacional',skiprows=5,skipfooter=4,usecols=[*range(2,69)],header=None)\n",
    "#Demanda Final Nacional\n",
    "Fn = pd.read_excel('./dados/MIP_2019_67_PCE.xlsx',sheet_name='Usos Nacional',skiprows=5,skipfooter=4,usecols=[*range(70,76)],header=None)\n",
    "\n",
    "#Consumo intermediário produção importados\n",
    "Um = pd.read_excel('./dados/MIP_2019_67_PCE.xlsx',sheet_name='Usos Importado',skiprows=5,skipfooter=4,usecols=[*range(2,69)],header=None)\n",
    "#Demanda Final Nacional importados\n",
    "Fm = pd.read_excel('./dados/MIP_2019_67_PCE.xlsx',sheet_name='Usos Importado',skiprows=5,skipfooter=4,usecols=[*range(70,76)],header=None)\n"
   ]
  },
  {
   "cell_type": "code",
   "execution_count": 63,
   "id": "057c4841",
   "metadata": {},
   "outputs": [
    {
     "data": {
      "text/plain": [
       "(67, 67)"
      ]
     },
     "execution_count": 63,
     "metadata": {},
     "output_type": "execute_result"
    }
   ],
   "source": []
  },
  {
   "cell_type": "markdown",
   "id": "dff1d0c0",
   "metadata": {},
   "source": [
    "# Extrair informações da TRU\n"
   ]
  },
  {
   "cell_type": "code",
   "execution_count": 167,
   "id": "ecf88050",
   "metadata": {},
   "outputs": [],
   "source": [
    "#Dados da TRU\n",
    "planilha = pd.read_excel('./dados/nivel_68_2010_2021_xls/68_tab2_2019.xls',sheet_name='VA',skiprows=5,skipfooter=4,usecols=[*range(1,69)],header=None) # planilha VA\n",
    "VAB = planilha.iloc[0,:].to_numpy()#Valor adicionado bruto\n",
    "W = planilha.loc[1,:].to_numpy()#Remuneracoes\n",
    "RMB = planilha.loc[8,:].to_numpy()#Rendimento misto bruto\n",
    "Out_Imp = planilha.loc[10,:].to_numpy()# outros impostos e subsidios\n",
    "Sub = planilha.loc[11,:].to_numpy()# outros impostos e subsidios\n",
    "Imp_ou_sub = Out_Imp + Sub\n",
    "VBP = planilha.iloc[12,:].to_numpy()#Valor bruto de produção\n",
    "o = planilha.loc[13,:]# ocupações\n",
    "\n",
    "#Matriz para agregação de 68 atividades em 67 da TRU\n",
    "agg_68_67 = np.concatenate((np.eye(67,41),np.concatenate((np.zeros((40,27)),np.eye(27,27)))),axis=1)\n",
    "#Transformação nas matrizes para 67 atividades\n",
    "VAB = np.matmul(agg_68_67,VAB.transpose())\n",
    "W = np.matmul(agg_68_67,W.transpose())\n",
    "RMB = np.matmul(agg_68_67,RMB.transpose())\n",
    "Out_Imp = np.matmul(agg_68_67,Out_Imp.transpose())\n",
    "Sub = np.matmul(agg_68_67,Sub.transpose())\n",
    "Imp_ou_sub = np.matmul(agg_68_67,Imp_ou_sub.transpose())\n",
    "VBP = np.matmul(agg_68_67,VBP.transpose())\n",
    "\n",
    "o = np.matmul(agg_68_67,o.transpose())\n",
    "\n",
    "\n"
   ]
  },
  {
   "cell_type": "markdown",
   "id": "4268a207",
   "metadata": {},
   "source": [
    "# Derivar informações da MIP"
   ]
  },
  {
   "cell_type": "code",
   "execution_count": 4,
   "id": "9fceaae0",
   "metadata": {},
   "outputs": [
    {
     "data": {
      "text/plain": [
       "(67, 126)"
      ]
     },
     "execution_count": 4,
     "metadata": {},
     "output_type": "execute_result"
    }
   ],
   "source": [
    "V.shape"
   ]
  },
  {
   "cell_type": "code",
   "execution_count": 5,
   "id": "c9ea01b0",
   "metadata": {},
   "outputs": [],
   "source": [
    "g = np.matmul(V,np.ones(126)) ## Produção total por atividade No caso da MIP estimada, o transporte aquaviário foi fundido com o terrestre de cargas\n",
    "q = np.transpose(np.matmul(np.transpose(np.ones(67)),V)) ## Produção total por produto\n",
    "D = np.matmul(V,np.linalg.inv(np.diag(q))) # market share\n",
    "\n",
    "Bn = np.matmul(Un,np.linalg.inv(np.diag(g))) # consumo intermediário nacional\n",
    "A = np.matmul(D,Bn) # coeficientes técnicos intersetoriais nacionais\n",
    "\n",
    "fn = np.matmul(Fn,np.transpose(np.ones(6))) # soma da demanda final\n",
    "e = np.matmul(D,fn) #Demanda final ( nacional )\n",
    "\n",
    "Bm = np.matmul(Um,np.linalg.inv(np.diag(g))) # consumo intermediário importado\n",
    "\n",
    "A_plus = np.matmul(D,Bn+Bm) # coeficientes técnicos ampliada ( contém insumos nacionais e importados )\n",
    "L = np.linalg.inv(np.eye(A.shape[0])-A) # leontief\n",
    "\n",
    "l=np.matmul(np.linalg.inv(np.diag(g)),o)#Postos de trabalho por unidade (Milhão) de produção \n",
    "\n"
   ]
  },
  {
   "cell_type": "markdown",
   "id": "8a98016b",
   "metadata": {},
   "source": [
    "# Cálculo em um modelo fechado"
   ]
  },
  {
   "cell_type": "code",
   "execution_count": 182,
   "id": "39e9ee18",
   "metadata": {},
   "outputs": [
    {
     "data": {
      "text/plain": [
       "3217680.0"
      ]
     },
     "execution_count": 182,
     "metadata": {},
     "output_type": "execute_result"
    }
   ],
   "source": [
    "sum(W)"
   ]
  },
  {
   "cell_type": "code",
   "execution_count": 183,
   "id": "4496c840",
   "metadata": {},
   "outputs": [],
   "source": [
    "cr =  W/VBP #Coeficientes de remuneração do trabalho ( renda )\n",
    "ch = Fn.loc[:,Fn.columns[3]]/sum(W)"
   ]
  },
  {
   "cell_type": "code",
   "execution_count": 187,
   "id": "5093bbd9",
   "metadata": {},
   "outputs": [
    {
     "data": {
      "text/plain": [
       "(126,)"
      ]
     },
     "execution_count": 187,
     "metadata": {},
     "output_type": "execute_result"
    }
   ],
   "source": [
    "Fn.loc[:,Fn.columns[3]].shape"
   ]
  },
  {
   "cell_type": "markdown",
   "id": "61fe2995",
   "metadata": {},
   "source": [
    "# Cálculo dos multiplicadores"
   ]
  },
  {
   "cell_type": "code",
   "execution_count": 6,
   "id": "f9e6ca5f",
   "metadata": {},
   "outputs": [],
   "source": [
    "w = np.matmul(np.linalg.inv(np.diag(g)),W) # participação de remuneracoes pela produção total, para cada atividade\n",
    "wa = np.matmul(np.linalg.inv(np.diag(g)),W+RMB) # participação de remuneracoes pela produção total, para cada atividade\n",
    "\n",
    "y=np.matmul(np.linalg.inv(np.diag(g)),VAB) # participação de valor agregado pela produção total, para cada atividade\n",
    "tp=np.matmul(np.matmul(np.linalg.inv(np.diag(g)),D),Imp)#Divisão de impostos pelo market share de cada produto\n",
    "\n",
    "to=np.matmul(np.matmul(np.diag(y),np.linalg.inv(np.diag(VAB))),Imp_ou_sub)#Outros impostos sobre a produção\n",
    "\n",
    "tn = tp.to_numpy()+to #Total de impostos sobre produção nacional\n"
   ]
  },
  {
   "cell_type": "code",
   "execution_count": 7,
   "id": "8130c6cf",
   "metadata": {},
   "outputs": [],
   "source": [
    "\n",
    "massa_salarial = np.matmul(w.transpose(),np.matmul(L,e))\n",
    "pib = np.matmul(np.matmul(y.transpose()+tp.transpose(),L),e.to_numpy())\n",
    "Valor_Agregado = np.matmul(np.matmul(y.transpose(),L),e)"
   ]
  },
  {
   "cell_type": "code",
   "execution_count": 8,
   "id": "97e70b10",
   "metadata": {},
   "outputs": [
    {
     "name": "stdout",
     "output_type": "stream",
     "text": [
      "Aumento no consumo intermediário importado de 120591.27 \n",
      "Aumento no valor agregado de produção de 792550.11 \n",
      "Aumento no PIB de 855268.03 \n",
      "Aumento nas ocupações (postos de trabalho) de 22.74 \n",
      "Aumento na massa salarial de 364504.47 \n",
      "Aumento na massa salarial ampliada de 508903.16 \n"
     ]
    }
   ],
   "source": [
    "#Calcular o incremento de uma unidade (milhão) na atividade identificadada por 1 no vetor arr\n",
    "arr = np.zeros(67)\n",
    "arr[7]=1\n",
    "\n",
    "print(\"Aumento no consumo intermediário importado de {:0.2f} \".format(np.matmul(np.ones(67),np.matmul(np.matmul(np.matmul(D,Bm),L),arr)*1000000)))#aumento de consumo intermediário importado\n",
    "print(\"Aumento no valor agregado de produção de {:0.2f} \".format(np.matmul(np.matmul(y.transpose(),L),arr)*1000000))\n",
    "print(\"Aumento no PIB de {:0.2f} \".format(np.matmul(np.matmul(y.transpose()+tp.transpose(),L),arr).values[0]*1000000))\n",
    "print(\"Aumento nas ocupações (postos de trabalho) de {:0.2f} \".format(np.matmul(np.matmul(l,L),arr)))\n",
    "print(\"Aumento na massa salarial de {:0.2f} \".format(np.matmul(np.matmul(w,L),arr)*1000000))\n",
    "print(\"Aumento na massa salarial ampliada de {:0.2f} \".format(np.matmul(np.matmul(wa,L),arr)*1000000))"
   ]
  },
  {
   "cell_type": "markdown",
   "id": "f8fb9e87",
   "metadata": {},
   "source": [
    "# Cálculo dos multiplicadores para trás - Total"
   ]
  },
  {
   "cell_type": "code",
   "execution_count": 9,
   "id": "c5e2163f",
   "metadata": {},
   "outputs": [],
   "source": [
    "mul_prod = np.matmul(np.ones(67).transpose(),L)#Multiplicador para produção\n",
    "mul_sal = np.matmul(w.transpose(),L)#multiplicador de remunerações\n",
    "mul_sal_ajus = np.matmul(wa.transpose(),L)#multiplicador de remunerações ajustado\n",
    "mul_imp = np.matmul(tp.transpose(),L)#multiplicador de impostos\n",
    "mul_ocup = np.matmul(l.transpose(),L)#Multiplicador de ocupações\n"
   ]
  },
  {
   "cell_type": "code",
   "execution_count": 67,
   "id": "5519e317",
   "metadata": {},
   "outputs": [
    {
     "data": {
      "text/plain": [
       "array([1.95320877, 0.8849815 , 0.69651252, 0.68040063, 1.3324876 ,\n",
       "       0.74476656, 0.63324047, 0.78577659, 0.67419397, 1.03375876,\n",
       "       0.72016829, 0.57548693, 0.9344627 , 0.61897335, 0.64846753,\n",
       "       0.71939865, 1.08230066, 0.70989595, 2.6988964 , 0.74360494,\n",
       "       1.84468329, 1.12213464, 0.64160004, 0.63043642, 1.17640513,\n",
       "       0.83178648, 1.1627701 , 0.93767546, 1.05237792, 0.6922444 ,\n",
       "       0.79339119, 0.80457056, 0.59615961, 0.92319941, 0.60720664,\n",
       "       0.64935173, 1.1754622 , 2.03885594, 0.79220327, 0.88946402,\n",
       "       3.77242316, 2.39673717, 0.68087321, 0.69886388, 1.22857202,\n",
       "       0.629961  , 0.70319396, 0.59713359, 1.02092752, 0.92725092,\n",
       "       1.05122676, 2.09715558, 1.01135702, 1.8657704 , 0.75779663,\n",
       "       1.18068677, 0.8272386 , 1.53768834, 0.74882389, 0.71946422,\n",
       "       0.56116788, 0.6491335 , 0.5518001 , 0.6283275 , 0.65276674,\n",
       "       0.72042678, 0.55027163])"
      ]
     },
     "execution_count": 67,
     "metadata": {},
     "output_type": "execute_result"
    }
   ],
   "source": [
    "#Sensibilidade de dispersão \n",
    "67*np.matmul(L,np.ones(67))/np.matmul(np.matmul(np.ones(67).transpose(),L),np.ones(67).transpose())"
   ]
  },
  {
   "cell_type": "code",
   "execution_count": 10,
   "id": "bafb148a",
   "metadata": {},
   "outputs": [],
   "source": [
    "poder_dispersao = 67*mul_prod / np.matmul(np.matmul(np.ones(67).transpose(),L),np.ones(67).transpose()) #multiplicador de produção normalizado"
   ]
  },
  {
   "cell_type": "code",
   "execution_count": 36,
   "id": "d6c2c824",
   "metadata": {},
   "outputs": [],
   "source": [
    "#Bn = np.matmul(np.linalg.inv(np.diag(g)),D) # consumo intermediário nacional\n",
    "#Sensibilidade de dispersão (Gosh)\n",
    "\n",
    "\n",
    "B = np.matmul(np.matmul(np.linalg.inv(np.diag(g)),D),Un) #coeficientes técnicos a jusante\n",
    "G = np.linalg.inv(np.eye(B.shape[0])-B) #matriz inversa de Gosh\n",
    "mul_prod_jus = np.matmul(G,np.ones(67))\n",
    "sensibilidade_dispersao = 67*mul_prod_jus / np.matmul(np.matmul(np.ones(67),G),np.ones(67)) #multiplicador a jusante normalizado\n"
   ]
  },
  {
   "cell_type": "code",
   "execution_count": 37,
   "id": "5310d573",
   "metadata": {},
   "outputs": [
    {
     "data": {
      "text/plain": [
       "array([0.93030683, 1.029361  , 0.91788326, 1.53798836, 1.27806992,\n",
       "       0.79089042, 0.91906648, 0.68314297, 0.9855104 , 0.82339206,\n",
       "       0.858786  , 0.56103768, 1.03898327, 0.65411674, 0.64458467,\n",
       "       1.06416928, 1.08682512, 1.52708773, 1.42546099, 1.19599248,\n",
       "       1.53234583, 1.37408888, 0.79346222, 0.73547872, 1.28451042,\n",
       "       1.23185979, 1.17294908, 1.09316734, 1.19848806, 0.6988382 ,\n",
       "       0.95760311, 0.76894814, 0.57368135, 1.19427164, 0.64896209,\n",
       "       0.72741564, 1.4266994 , 1.3272708 , 1.03327052, 0.67592253,\n",
       "       0.8852717 , 1.24098313, 1.43432743, 1.08321869, 1.21160945,\n",
       "       0.99507493, 0.6376978 , 0.990807  , 1.85051404, 0.9214078 ,\n",
       "       1.01785736, 0.99151457, 0.66058229, 1.40246343, 1.0284862 ,\n",
       "       1.42402375, 1.32560244, 1.21324048, 1.39505735, 0.5632164 ,\n",
       "       0.53693509, 0.65779988, 0.53449671, 0.60833452, 0.76174988,\n",
       "       0.6927858 , 0.53305241])"
      ]
     },
     "execution_count": 37,
     "metadata": {},
     "output_type": "execute_result"
    }
   ],
   "source": [
    "sensibilidade_dispersao"
   ]
  },
  {
   "cell_type": "code",
   "execution_count": 43,
   "id": "c97696a3",
   "metadata": {},
   "outputs": [
    {
     "data": {
      "text/plain": [
       "(126, 67)"
      ]
     },
     "execution_count": 43,
     "metadata": {},
     "output_type": "execute_result"
    }
   ],
   "source": [
    "Un.shape"
   ]
  },
  {
   "cell_type": "code",
   "execution_count": 45,
   "id": "1741af0a",
   "metadata": {},
   "outputs": [
    {
     "data": {
      "text/plain": [
       "2     41021.590076\n",
       "3     18042.619448\n",
       "4      2151.736848\n",
       "5      2448.495716\n",
       "6     24125.365106\n",
       "          ...     \n",
       "64    16004.078570\n",
       "65    28834.930185\n",
       "66     4350.493791\n",
       "67    17568.981811\n",
       "68        0.000000\n",
       "Length: 67, dtype: float64"
      ]
     },
     "execution_count": 45,
     "metadata": {},
     "output_type": "execute_result"
    }
   ],
   "source": [
    "np.matmul(np.ones(126),Un)/4"
   ]
  },
  {
   "cell_type": "code",
   "execution_count": 68,
   "id": "ee28a878",
   "metadata": {},
   "outputs": [
    {
     "data": {
      "text/plain": [
       "0.9303068328289611"
      ]
     },
     "execution_count": 68,
     "metadata": {},
     "output_type": "execute_result"
    }
   ],
   "source": [
    "sensibilidade_dispersao[0]"
   ]
  },
  {
   "cell_type": "code",
   "execution_count": 71,
   "id": "4902e5b5",
   "metadata": {},
   "outputs": [
    {
     "data": {
      "text/plain": [
       "0     0.395096\n",
       "1     0.442742\n",
       "2     0.225313\n",
       "3     0.481040\n",
       "4     0.379000\n",
       "        ...   \n",
       "62    0.294935\n",
       "63    0.355873\n",
       "64    0.373625\n",
       "65    0.379667\n",
       "66    0.000000\n",
       "Length: 67, dtype: float64"
      ]
     },
     "execution_count": 71,
     "metadata": {},
     "output_type": "execute_result"
    }
   ],
   "source": [
    "np.matmul(np.ones(67),A)"
   ]
  },
  {
   "cell_type": "code",
   "execution_count": 70,
   "id": "ea26fa61",
   "metadata": {},
   "outputs": [
    {
     "data": {
      "text/plain": [
       "11    1.848847\n",
       "12    0.419128\n",
       "13    0.172770\n",
       "14    0.137852\n",
       "15    0.336075\n",
       "        ...   \n",
       "73    0.002153\n",
       "74    0.123647\n",
       "75    0.112678\n",
       "76    0.172030\n",
       "77    0.000000\n",
       "Length: 67, dtype: float64"
      ]
     },
     "execution_count": 70,
     "metadata": {},
     "output_type": "execute_result"
    }
   ],
   "source": [
    "np.matmul(A,np.ones(67))"
   ]
  },
  {
   "cell_type": "markdown",
   "id": "9d5b42ab",
   "metadata": {},
   "source": [
    "# Teste de derivação da MIP a partir da TRU ( Andamento )"
   ]
  },
  {
   "cell_type": "code",
   "execution_count": 12,
   "id": "adfed52c",
   "metadata": {},
   "outputs": [],
   "source": [
    "ConsumoIntermediario = pd.read_excel('./dados/nivel_68_2010_2021_xls/68_tab2_2015.xls',sheet_name='VA',skiprows=5,skipfooter=4,usecols=[*range(1,69)],header=None) # planilha VA\n",
    "Demanda = pd.read_excel('./dados/nivel_68_2010_2021_xls/68_tab2_2015.xls',sheet_name='VA',skiprows=5,skipfooter=4,usecols=[*range(1,69)],header=None) # planilha VA\n"
   ]
  },
  {
   "cell_type": "code",
   "execution_count": null,
   "id": "76e6e76e",
   "metadata": {},
   "outputs": [],
   "source": []
  },
  {
   "cell_type": "code",
   "execution_count": 6,
   "id": "9480fc9a-3f09-4786-ad64-80ec7499bf73",
   "metadata": {},
   "outputs": [
    {
     "name": "stdout",
     "output_type": "stream",
     "text": [
      "[[280 120]\n",
      " [ 12   8]]\n",
      "[575  20]\n"
     ]
    }
   ],
   "source": [
    "Q = np.array([[280,120],[12,8]])\n",
    "q = np.array([575,20])\n",
    "\n",
    "print(Q)\n",
    "print(q)"
   ]
  },
  {
   "cell_type": "code",
   "execution_count": 14,
   "id": "a9b4f348-3548-4e07-b6a0-4ed94f18973a",
   "metadata": {},
   "outputs": [],
   "source": [
    "A= np.matmul(Q,np.linalg.inv(np.diag(q)))"
   ]
  },
  {
   "cell_type": "code",
   "execution_count": 19,
   "id": "f25b0647-93cd-4df6-b40a-732f7fdf1aeb",
   "metadata": {},
   "outputs": [],
   "source": [
    "eigvector,eigvalues = la.eig(np.matrix.transpose(A))"
   ]
  },
  {
   "cell_type": "code",
   "execution_count": 38,
   "id": "cb8ce293-d7ec-4461-a608-cdd7a9652b15",
   "metadata": {},
   "outputs": [],
   "source": [
    "lambdas = max(eigvector).real\n",
    "pos_vec = np.argmax(eigvector)"
   ]
  },
  {
   "cell_type": "code",
   "execution_count": 39,
   "id": "ba4f65ae-c1db-4834-9cdf-d928ff2e46a9",
   "metadata": {},
   "outputs": [],
   "source": [
    "max_eigvectors = eigvalues[:,pos_vec].reshape(2,1)"
   ]
  },
  {
   "cell_type": "code",
   "execution_count": 40,
   "id": "21b168e5-43f5-4e95-bd82-5b831e41d7bc",
   "metadata": {},
   "outputs": [],
   "source": [
    "r = (1-lambdas)/lambdas"
   ]
  },
  {
   "cell_type": "code",
   "execution_count": 37,
   "id": "13ac630d-889b-424c-8cdf-1a006225ee6f",
   "metadata": {},
   "outputs": [
    {
     "data": {
      "text/plain": [
       "0.8"
      ]
     },
     "execution_count": 37,
     "metadata": {},
     "output_type": "execute_result"
    }
   ],
   "source": [
    "lambdas.real"
   ]
  },
  {
   "cell_type": "code",
   "execution_count": 45,
   "id": "50b14906-f40e-4788-a8c4-6dcc5c1ae677",
   "metadata": {},
   "outputs": [
    {
     "data": {
      "text/plain": [
       "array([[ 1.],\n",
       "       [15.]])"
      ]
     },
     "execution_count": 45,
     "metadata": {},
     "output_type": "execute_result"
    }
   ],
   "source": [
    "max_eigvectors/max_eigvectors[0]"
   ]
  },
  {
   "cell_type": "markdown",
   "id": "4940a45b-8e65-412a-aced-69f5bf7b0c73",
   "metadata": {},
   "source": [
    "## Importação de dados reais"
   ]
  },
  {
   "cell_type": "code",
   "execution_count": 1,
   "id": "7fb400a0-8eda-4cb5-adfa-bd3ba468bc2e",
   "metadata": {},
   "outputs": [
    {
     "name": "stdout",
     "output_type": "stream",
     "text": [
      "\u001b[4l\u001b[0m\n",
      "Undefined variable: import\n",
      "\u001b[0m"
     ]
    }
   ],
   "source": [
    "import pandas as pd"
   ]
  },
  {
   "cell_type": "code",
   "execution_count": null,
   "id": "0d0b85bd-ffcd-4559-ac94-d1b39c3c5357",
   "metadata": {},
   "outputs": [],
   "source": []
  }
 ],
 "metadata": {
  "kernelspec": {
   "display_name": "Python 3 (ipykernel)",
   "language": "python",
   "name": "python3"
  },
  "language_info": {
   "codemirror_mode": {
    "name": "ipython",
    "version": 3
   },
   "file_extension": ".py",
   "mimetype": "text/x-python",
   "name": "python",
   "nbconvert_exporter": "python",
   "pygments_lexer": "ipython3",
   "version": "3.12.2"
  }
 },
 "nbformat": 4,
 "nbformat_minor": 5
}
