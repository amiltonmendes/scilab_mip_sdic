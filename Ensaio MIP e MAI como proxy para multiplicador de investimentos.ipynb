{
 "cells": [
  {
   "cell_type": "markdown",
   "metadata": {},
   "source": [
    "O multiplicador de investimentos é uma medida que indica quanto o produto interno bruto (PIB) de um país aumenta em resposta a um aumento nos investimentos. Ele é calculado com base na Margem de Propensão a Investir (MPI) e na Margem de Propensão a Importar (MPI).\n",
    "\n",
    "A fórmula geral para calcular o multiplicador de investimentos é:\n",
    "\n",
    "Multiplicador de Investimentos\n",
    "​\n",
    "\n",
    "$$ \\text{Multiplicador de Investimentos} = \\frac{1}{1 - (MPI \\times MPM)} $$\n",
    "\n",
    "\n",
    "Onde:\n",
    "\n",
    "* MPI é a Margem de Propensão a Investir, que representa a proporção do aumento nos investimentos que é gasto em bens e serviços domésticos.\n",
    "* MPM é a Margem de Propensão a Importar, que representa a proporção do aumento na renda nacional que é gasta em importações.\n",
    "Para calcular o multiplicador de investimentos, você precisaria conhecer os valores específicos da MPI e do MPM. Esses valores podem ser obtidos a partir de dados econômicos, como a taxa de investimento e a taxa de importação.\n",
    "\n",
    "A MPI geralmente é calculada como a relação entre o aumento nos investimentos e o aumento no PIB, enquanto o MPM é a relação entre as importações e o PIB.\n",
    "\n",
    "Depois de calcular esses valores, você pode inseri-los na fórmula acima para encontrar o multiplicador de investimentos específico para a economia em questão."
   ]
  },
  {
   "cell_type": "markdown",
   "metadata": {},
   "source": [
    "A MAI fornece informações sobre como os investimentos afetam a produção e o emprego em diferentes setores da economia. Por outro lado, a MIP mostra as relações entre os diferentes setores da economia em termos de produção, consumo e insumos.\n",
    "\n",
    "Para estimar uma proxy para a MPI a partir da MAI, você pode considerar a parcela dos investimentos totais que são absorvidos pela produção doméstica. Isso pode ser calculado como a razão entre os investimentos absorvidos internamente e o total de investimentos. Isso lhe dará uma ideia de quanto dos investimentos são gastos na economia doméstica, em vez de serem gastos em importações.\n",
    "\n",
    "Da mesma forma, para estimar uma proxy para a MPM a partir da MIP, você pode considerar a parcela dos gastos em importações em relação à produção total de cada setor. Isso pode ser calculado como a razão entre os gastos em importações e o total da produção de cada setor. Isso lhe dará uma ideia de quanto da produção de cada setor é gasta em importações.\n",
    "\n",
    "Essas estimativas podem não ser perfeitamente precisas, mas podem fornecer uma aproximação útil para a MPI e a MPM, que você pode usar para calcular um proxy para o multiplicador de investimentos."
   ]
  },
  {
   "cell_type": "code",
   "execution_count": null,
   "metadata": {},
   "outputs": [],
   "source": [
    "import pandas as pd\n",
    "#periodos \n",
    "lista_periodo = [2013,2014,2015,2016,2019]\n",
    "#Calcular a demanda total (imp + nacional) e a demanda total nacional\n",
    "\n",
    "for periodo in lista_periodo:\n",
    "    V = pd.read_excel('./dados/MIP_'+periodo+'_67_PCE.xlsx',sheet_name='Recursos',skiprows=5,skipfooter=4,usecols=[*range(11,78)],header=None)\n",
    "\n",
    "\n"
   ]
  }
 ],
 "metadata": {
  "kernelspec": {
   "display_name": "mip",
   "language": "python",
   "name": "python3"
  },
  "language_info": {
   "name": "python",
   "version": "3.12.2"
  }
 },
 "nbformat": 4,
 "nbformat_minor": 2
}
