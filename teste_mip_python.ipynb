{
 "cells": [
  {
   "cell_type": "code",
   "execution_count": 2,
   "id": "bd047f0c-6ef9-4e87-bd8c-5cf5e4c9f438",
   "metadata": {},
   "outputs": [],
   "source": [
    "import numpy as np\n",
    "import scipy.linalg as la\n",
    "import pandas as pd"
   ]
  },
  {
   "cell_type": "code",
   "execution_count": 49,
   "id": "81d96247",
   "metadata": {},
   "outputs": [],
   "source": [
    "#Produção total\n",
    "V = pd.read_excel('./dados/Matriz_de_Insumo_Produto_2015_Nivel_67.xls',sheet_name='01',skiprows=5,skipfooter=5,usecols=[*range(7,74)],header=None)\n"
   ]
  },
  {
   "cell_type": "code",
   "execution_count": 51,
   "id": "d979e8cd",
   "metadata": {},
   "outputs": [
    {
     "data": {
      "text/html": [
       "<div>\n",
       "<style scoped>\n",
       "    .dataframe tbody tr th:only-of-type {\n",
       "        vertical-align: middle;\n",
       "    }\n",
       "\n",
       "    .dataframe tbody tr th {\n",
       "        vertical-align: top;\n",
       "    }\n",
       "\n",
       "    .dataframe thead th {\n",
       "        text-align: right;\n",
       "    }\n",
       "</style>\n",
       "<table border=\"1\" class=\"dataframe\">\n",
       "  <thead>\n",
       "    <tr style=\"text-align: right;\">\n",
       "      <th></th>\n",
       "      <th>7</th>\n",
       "      <th>8</th>\n",
       "      <th>9</th>\n",
       "      <th>10</th>\n",
       "      <th>11</th>\n",
       "      <th>12</th>\n",
       "      <th>13</th>\n",
       "      <th>14</th>\n",
       "      <th>15</th>\n",
       "      <th>16</th>\n",
       "      <th>...</th>\n",
       "      <th>64</th>\n",
       "      <th>65</th>\n",
       "      <th>66</th>\n",
       "      <th>67</th>\n",
       "      <th>68</th>\n",
       "      <th>69</th>\n",
       "      <th>70</th>\n",
       "      <th>71</th>\n",
       "      <th>72</th>\n",
       "      <th>73</th>\n",
       "    </tr>\n",
       "  </thead>\n",
       "  <tbody>\n",
       "    <tr>\n",
       "      <th>0</th>\n",
       "      <td>10551</td>\n",
       "      <td>321</td>\n",
       "      <td>8</td>\n",
       "      <td>0</td>\n",
       "      <td>0</td>\n",
       "      <td>0</td>\n",
       "      <td>0</td>\n",
       "      <td>0</td>\n",
       "      <td>0</td>\n",
       "      <td>0</td>\n",
       "      <td>...</td>\n",
       "      <td>0</td>\n",
       "      <td>0</td>\n",
       "      <td>156</td>\n",
       "      <td>0</td>\n",
       "      <td>0</td>\n",
       "      <td>0</td>\n",
       "      <td>0</td>\n",
       "      <td>0</td>\n",
       "      <td>0</td>\n",
       "      <td>0</td>\n",
       "    </tr>\n",
       "    <tr>\n",
       "      <th>1</th>\n",
       "      <td>28173</td>\n",
       "      <td>1641</td>\n",
       "      <td>51</td>\n",
       "      <td>0</td>\n",
       "      <td>0</td>\n",
       "      <td>0</td>\n",
       "      <td>0</td>\n",
       "      <td>0</td>\n",
       "      <td>0</td>\n",
       "      <td>0</td>\n",
       "      <td>...</td>\n",
       "      <td>0</td>\n",
       "      <td>0</td>\n",
       "      <td>110</td>\n",
       "      <td>0</td>\n",
       "      <td>0</td>\n",
       "      <td>0</td>\n",
       "      <td>0</td>\n",
       "      <td>0</td>\n",
       "      <td>0</td>\n",
       "      <td>0</td>\n",
       "    </tr>\n",
       "    <tr>\n",
       "      <th>2</th>\n",
       "      <td>8931</td>\n",
       "      <td>11</td>\n",
       "      <td>0</td>\n",
       "      <td>0</td>\n",
       "      <td>0</td>\n",
       "      <td>0</td>\n",
       "      <td>0</td>\n",
       "      <td>0</td>\n",
       "      <td>0</td>\n",
       "      <td>0</td>\n",
       "      <td>...</td>\n",
       "      <td>0</td>\n",
       "      <td>0</td>\n",
       "      <td>1</td>\n",
       "      <td>0</td>\n",
       "      <td>0</td>\n",
       "      <td>0</td>\n",
       "      <td>0</td>\n",
       "      <td>0</td>\n",
       "      <td>0</td>\n",
       "      <td>0</td>\n",
       "    </tr>\n",
       "    <tr>\n",
       "      <th>3</th>\n",
       "      <td>45840</td>\n",
       "      <td>239</td>\n",
       "      <td>1</td>\n",
       "      <td>0</td>\n",
       "      <td>0</td>\n",
       "      <td>0</td>\n",
       "      <td>0</td>\n",
       "      <td>0</td>\n",
       "      <td>0</td>\n",
       "      <td>0</td>\n",
       "      <td>...</td>\n",
       "      <td>0</td>\n",
       "      <td>0</td>\n",
       "      <td>0</td>\n",
       "      <td>0</td>\n",
       "      <td>0</td>\n",
       "      <td>0</td>\n",
       "      <td>0</td>\n",
       "      <td>0</td>\n",
       "      <td>0</td>\n",
       "      <td>0</td>\n",
       "    </tr>\n",
       "    <tr>\n",
       "      <th>4</th>\n",
       "      <td>106355</td>\n",
       "      <td>2773</td>\n",
       "      <td>42</td>\n",
       "      <td>0</td>\n",
       "      <td>0</td>\n",
       "      <td>0</td>\n",
       "      <td>0</td>\n",
       "      <td>0</td>\n",
       "      <td>0</td>\n",
       "      <td>0</td>\n",
       "      <td>...</td>\n",
       "      <td>0</td>\n",
       "      <td>0</td>\n",
       "      <td>0</td>\n",
       "      <td>0</td>\n",
       "      <td>0</td>\n",
       "      <td>0</td>\n",
       "      <td>0</td>\n",
       "      <td>0</td>\n",
       "      <td>0</td>\n",
       "      <td>0</td>\n",
       "    </tr>\n",
       "  </tbody>\n",
       "</table>\n",
       "<p>5 rows × 67 columns</p>\n",
       "</div>"
      ],
      "text/plain": [
       "       7     8   9   10  11  12  13  14  15  16  ...  64  65   66  67  68  69  \\\n",
       "0   10551   321   8   0   0   0   0   0   0   0  ...   0   0  156   0   0   0   \n",
       "1   28173  1641  51   0   0   0   0   0   0   0  ...   0   0  110   0   0   0   \n",
       "2    8931    11   0   0   0   0   0   0   0   0  ...   0   0    1   0   0   0   \n",
       "3   45840   239   1   0   0   0   0   0   0   0  ...   0   0    0   0   0   0   \n",
       "4  106355  2773  42   0   0   0   0   0   0   0  ...   0   0    0   0   0   0   \n",
       "\n",
       "   70  71  72  73  \n",
       "0   0   0   0   0  \n",
       "1   0   0   0   0  \n",
       "2   0   0   0   0  \n",
       "3   0   0   0   0  \n",
       "4   0   0   0   0  \n",
       "\n",
       "[5 rows x 67 columns]"
      ]
     },
     "execution_count": 51,
     "metadata": {},
     "output_type": "execute_result"
    }
   ],
   "source": [
    "V.head()"
   ]
  },
  {
   "cell_type": "code",
   "execution_count": 54,
   "id": "12fda94d",
   "metadata": {},
   "outputs": [],
   "source": [
    "\n",
    "V = np.transpose(V)\n",
    "#Impostos\n",
    "Imp = pd.read_excel('./dados/Matriz_de_Insumo_Produto_2015_Nivel_67.xls',sheet_name='01',skiprows=5,skipfooter=5,usecols=[5],header=None)\n",
    "#Consumo intermediário produção nacional\n",
    "Un = pd.read_excel('./dados/Matriz_de_Insumo_Produto_2015_Nivel_67.xls',sheet_name='03',skiprows=5,skipfooter=4,usecols=[*range(3,70)],header=None)\n",
    "#Demanda Final Nacional\n",
    "Fn = pd.read_excel('./dados/Matriz_de_Insumo_Produto_2015_Nivel_67.xls',sheet_name='03',skiprows=5,skipfooter=4,usecols=[*range(71,77)],header=None)\n",
    "\n",
    "#Consumo intermediário produção importados\n",
    "Um = pd.read_excel('./dados/Matriz_de_Insumo_Produto_2015_Nivel_67.xls',sheet_name='04',skiprows=5,skipfooter=4,usecols=[*range(3,70)],header=None)\n",
    "#Demanda Final Nacional importados\n",
    "Fm = pd.read_excel('./dados/Matriz_de_Insumo_Produto_2015_Nivel_67.xls',sheet_name='04',skiprows=5,skipfooter=4,usecols=[*range(71,77)],header=None)\n"
   ]
  },
  {
   "cell_type": "code",
   "execution_count": 63,
   "id": "e56bc40b",
   "metadata": {},
   "outputs": [
    {
     "data": {
      "text/plain": [
       "(127, 6)"
      ]
     },
     "execution_count": 63,
     "metadata": {},
     "output_type": "execute_result"
    }
   ],
   "source": [
    "Fn.shape"
   ]
  },
  {
   "cell_type": "code",
   "execution_count": 22,
   "id": "c9ea01b0",
   "metadata": {},
   "outputs": [],
   "source": [
    "g = np.matmul(V,np.ones(127)) ## Produção total por atividade"
   ]
  },
  {
   "cell_type": "code",
   "execution_count": 27,
   "id": "39e35d3a",
   "metadata": {},
   "outputs": [],
   "source": [
    "q = np.transpose(np.matmul(np.transpose(np.ones(67)),V)) ## Produção total por produto"
   ]
  },
  {
   "cell_type": "code",
   "execution_count": 31,
   "id": "388d0765",
   "metadata": {},
   "outputs": [],
   "source": [
    "D = np.matmul(V,np.linalg.inv(np.diag(q))) # market share"
   ]
  },
  {
   "cell_type": "code",
   "execution_count": 57,
   "id": "7be4e161",
   "metadata": {},
   "outputs": [
    {
     "data": {
      "text/plain": [
       "(67, 127)"
      ]
     },
     "execution_count": 57,
     "metadata": {},
     "output_type": "execute_result"
    }
   ],
   "source": [
    "D.shape"
   ]
  },
  {
   "cell_type": "code",
   "execution_count": 58,
   "id": "db8413cf",
   "metadata": {},
   "outputs": [
    {
     "data": {
      "text/plain": [
       "(127, 67)"
      ]
     },
     "execution_count": 58,
     "metadata": {},
     "output_type": "execute_result"
    }
   ],
   "source": [
    "Un.shape"
   ]
  },
  {
   "cell_type": "code",
   "execution_count": 79,
   "id": "9d5b42ab",
   "metadata": {},
   "outputs": [],
   "source": [
    "Bn = np.matmul(Un,np.linalg.inv(np.diag(g))) # consumo intermediário nacional\n",
    "A = np.matmul(D,Bn) # coeficientes técnicos intersetoriais nacionais"
   ]
  },
  {
   "cell_type": "code",
   "execution_count": 77,
   "id": "adfed52c",
   "metadata": {},
   "outputs": [],
   "source": [
    "fn = np.matmul(Fn,np.transpose(np.ones(6))) # soma da demanda final"
   ]
  },
  {
   "cell_type": "code",
   "execution_count": 75,
   "id": "7a3ace62",
   "metadata": {},
   "outputs": [],
   "source": [
    "\n",
    "e = np.matmul(D,fn) #Demanda final ( nacional )"
   ]
  },
  {
   "cell_type": "code",
   "execution_count": 81,
   "id": "188258b1",
   "metadata": {},
   "outputs": [],
   "source": [
    "Bm = np.matmul(Um,np.linalg.inv(np.diag(g))) # consumo intermediário importado\n"
   ]
  },
  {
   "cell_type": "code",
   "execution_count": 82,
   "id": "cb0af697",
   "metadata": {},
   "outputs": [],
   "source": [
    "A_plus = np.matmul(D,Bn+Bm) # coeficientes técnicos ampliada ( contém insumos nacionais e importados )"
   ]
  },
  {
   "cell_type": "code",
   "execution_count": 85,
   "id": "1131b6ca",
   "metadata": {},
   "outputs": [
    {
     "data": {
      "text/plain": [
       "(67, 67)"
      ]
     },
     "execution_count": 85,
     "metadata": {},
     "output_type": "execute_result"
    }
   ],
   "source": [
    "A_plus.shape"
   ]
  },
  {
   "cell_type": "code",
   "execution_count": 67,
   "id": "fdfbd64d",
   "metadata": {},
   "outputs": [
    {
     "data": {
      "text/plain": [
       "(67, 6)"
      ]
     },
     "execution_count": 67,
     "metadata": {},
     "output_type": "execute_result"
    }
   ],
   "source": [
    "e.shape"
   ]
  },
  {
   "cell_type": "code",
   "execution_count": 87,
   "id": "4a472bed",
   "metadata": {},
   "outputs": [
    {
     "data": {
      "text/plain": [
       "(67, 67)"
      ]
     },
     "execution_count": 87,
     "metadata": {},
     "output_type": "execute_result"
    }
   ],
   "source": [
    "A.shape"
   ]
  },
  {
   "cell_type": "code",
   "execution_count": 94,
   "id": "1fa1d954",
   "metadata": {},
   "outputs": [],
   "source": [
    "L = np.linalg.inv(np.eye(A.shape[0])-A) # leontief"
   ]
  },
  {
   "cell_type": "code",
   "execution_count": 95,
   "id": "3fad4278",
   "metadata": {},
   "outputs": [
    {
     "data": {
      "text/plain": [
       "array([[1.02773202e+00, 5.44363300e-02, 1.36446721e-02, ...,\n",
       "        2.08792617e-03, 8.24716207e-03, 0.00000000e+00],\n",
       "       [3.11757093e-03, 1.04062171e+00, 5.55800662e-03, ...,\n",
       "        5.35815772e-04, 3.48428117e-03, 0.00000000e+00],\n",
       "       [3.57783232e-03, 9.13127880e-03, 1.05121253e+00, ...,\n",
       "        4.36741287e-04, 7.87761572e-04, 0.00000000e+00],\n",
       "       ...,\n",
       "       [2.87744016e-04, 5.26111772e-04, 2.95272245e-04, ...,\n",
       "        1.02516733e+00, 1.00216176e-02, 0.00000000e+00],\n",
       "       [1.49719447e-03, 1.52110501e-03, 1.18862912e-03, ...,\n",
       "        1.90224048e-03, 1.00408244e+00, 0.00000000e+00],\n",
       "       [0.00000000e+00, 0.00000000e+00, 0.00000000e+00, ...,\n",
       "        0.00000000e+00, 0.00000000e+00, 1.00000000e+00]])"
      ]
     },
     "execution_count": 95,
     "metadata": {},
     "output_type": "execute_result"
    }
   ],
   "source": [
    "L"
   ]
  },
  {
   "cell_type": "code",
   "execution_count": 6,
   "id": "9480fc9a-3f09-4786-ad64-80ec7499bf73",
   "metadata": {},
   "outputs": [
    {
     "name": "stdout",
     "output_type": "stream",
     "text": [
      "[[280 120]\n",
      " [ 12   8]]\n",
      "[575  20]\n"
     ]
    }
   ],
   "source": [
    "Q = np.array([[280,120],[12,8]])\n",
    "q = np.array([575,20])\n",
    "\n",
    "print(Q)\n",
    "print(q)"
   ]
  },
  {
   "cell_type": "code",
   "execution_count": 14,
   "id": "a9b4f348-3548-4e07-b6a0-4ed94f18973a",
   "metadata": {},
   "outputs": [],
   "source": [
    "A= np.matmul(Q,np.linalg.inv(np.diag(q)))"
   ]
  },
  {
   "cell_type": "code",
   "execution_count": 19,
   "id": "f25b0647-93cd-4df6-b40a-732f7fdf1aeb",
   "metadata": {},
   "outputs": [],
   "source": [
    "eigvector,eigvalues = la.eig(np.matrix.transpose(A))"
   ]
  },
  {
   "cell_type": "code",
   "execution_count": 38,
   "id": "cb8ce293-d7ec-4461-a608-cdd7a9652b15",
   "metadata": {},
   "outputs": [],
   "source": [
    "lambdas = max(eigvector).real\n",
    "pos_vec = np.argmax(eigvector)"
   ]
  },
  {
   "cell_type": "code",
   "execution_count": 39,
   "id": "ba4f65ae-c1db-4834-9cdf-d928ff2e46a9",
   "metadata": {},
   "outputs": [],
   "source": [
    "max_eigvectors = eigvalues[:,pos_vec].reshape(2,1)"
   ]
  },
  {
   "cell_type": "code",
   "execution_count": 40,
   "id": "21b168e5-43f5-4e95-bd82-5b831e41d7bc",
   "metadata": {},
   "outputs": [],
   "source": [
    "r = (1-lambdas)/lambdas"
   ]
  },
  {
   "cell_type": "code",
   "execution_count": 37,
   "id": "13ac630d-889b-424c-8cdf-1a006225ee6f",
   "metadata": {},
   "outputs": [
    {
     "data": {
      "text/plain": [
       "0.8"
      ]
     },
     "execution_count": 37,
     "metadata": {},
     "output_type": "execute_result"
    }
   ],
   "source": [
    "lambdas.real"
   ]
  },
  {
   "cell_type": "code",
   "execution_count": 45,
   "id": "50b14906-f40e-4788-a8c4-6dcc5c1ae677",
   "metadata": {},
   "outputs": [
    {
     "data": {
      "text/plain": [
       "array([[ 1.],\n",
       "       [15.]])"
      ]
     },
     "execution_count": 45,
     "metadata": {},
     "output_type": "execute_result"
    }
   ],
   "source": [
    "max_eigvectors/max_eigvectors[0]"
   ]
  },
  {
   "cell_type": "markdown",
   "id": "4940a45b-8e65-412a-aced-69f5bf7b0c73",
   "metadata": {},
   "source": [
    "## Importação de dados reais"
   ]
  },
  {
   "cell_type": "code",
   "execution_count": 1,
   "id": "7fb400a0-8eda-4cb5-adfa-bd3ba468bc2e",
   "metadata": {},
   "outputs": [
    {
     "name": "stdout",
     "output_type": "stream",
     "text": [
      "\u001b[4l\u001b[0m\n",
      "Undefined variable: import\n",
      "\u001b[0m"
     ]
    }
   ],
   "source": [
    "import pandas as pd"
   ]
  },
  {
   "cell_type": "code",
   "execution_count": null,
   "id": "0d0b85bd-ffcd-4559-ac94-d1b39c3c5357",
   "metadata": {},
   "outputs": [],
   "source": []
  }
 ],
 "metadata": {
  "kernelspec": {
   "display_name": "Python 3 (ipykernel)",
   "language": "python",
   "name": "python3"
  },
  "language_info": {
   "codemirror_mode": {
    "name": "ipython",
    "version": 3
   },
   "file_extension": ".py",
   "mimetype": "text/x-python",
   "name": "python",
   "nbconvert_exporter": "python",
   "pygments_lexer": "ipython3",
   "version": "3.12.2"
  }
 },
 "nbformat": 4,
 "nbformat_minor": 5
}
