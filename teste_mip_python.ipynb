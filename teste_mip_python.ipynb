{
 "cells": [
  {
   "cell_type": "code",
   "execution_count": 253,
   "id": "bd047f0c-6ef9-4e87-bd8c-5cf5e4c9f438",
   "metadata": {},
   "outputs": [],
   "source": [
    "import numpy as np\n",
    "import scipy.linalg as la\n",
    "import pandas as pd"
   ]
  },
  {
   "cell_type": "markdown",
   "id": "06bbf24f",
   "metadata": {},
   "source": [
    "# Extrair informações da MIP"
   ]
  },
  {
   "cell_type": "code",
   "execution_count": 254,
   "id": "12fda94d",
   "metadata": {},
   "outputs": [],
   "source": [
    "#Produção total\n",
    "V = pd.read_excel('./dados/Matriz_de_Insumo_Produto_2015_Nivel_67.xls',sheet_name='01',skiprows=5,skipfooter=5,usecols=[*range(7,74)],header=None)\n",
    "V = np.transpose(V)\n",
    "#Impostos\n",
    "Imp = pd.read_excel('./dados/Matriz_de_Insumo_Produto_2015_Nivel_67.xls',sheet_name='01',skiprows=5,skipfooter=5,usecols=[5],header=None)\n",
    "#Consumo intermediário produção nacional\n",
    "Un = pd.read_excel('./dados/Matriz_de_Insumo_Produto_2015_Nivel_67.xls',sheet_name='03',skiprows=5,skipfooter=4,usecols=[*range(3,70)],header=None)\n",
    "#Demanda Final Nacional\n",
    "Fn = pd.read_excel('./dados/Matriz_de_Insumo_Produto_2015_Nivel_67.xls',sheet_name='03',skiprows=5,skipfooter=4,usecols=[*range(71,77)],header=None)\n",
    "\n",
    "#Consumo intermediário produção importados\n",
    "Um = pd.read_excel('./dados/Matriz_de_Insumo_Produto_2015_Nivel_67.xls',sheet_name='04',skiprows=5,skipfooter=4,usecols=[*range(3,70)],header=None)\n",
    "#Demanda Final Nacional importados\n",
    "Fm = pd.read_excel('./dados/Matriz_de_Insumo_Produto_2015_Nivel_67.xls',sheet_name='04',skiprows=5,skipfooter=4,usecols=[*range(71,77)],header=None)\n"
   ]
  },
  {
   "cell_type": "markdown",
   "id": "dff1d0c0",
   "metadata": {},
   "source": [
    "# Extrair informações da TRU\n"
   ]
  },
  {
   "cell_type": "code",
   "execution_count": 269,
   "id": "ecf88050",
   "metadata": {},
   "outputs": [],
   "source": [
    "#Dados da TRU\n",
    "planilha = pd.read_excel('./dados/nivel_68_2010_2021_xls/68_tab2_2015.xls',sheet_name='VA',skiprows=5,skipfooter=4,usecols=[*range(1,69)],header=None) # planilha VA\n",
    "VAB = planilha.iloc[0,:].to_numpy()#Valor adicionado bruto\n",
    "W = planilha.loc[1,:].to_numpy()#Remuneracoes\n",
    "RMB = planilha.loc[8,:].to_numpy()#Rendimento misto bruto\n",
    "Out_Imp = planilha.loc[10,:].to_numpy()# outros impostos e subsidios\n",
    "Sub = planilha.loc[11,:].to_numpy()# outros subsidios à produção\n",
    "Imp_ou_sub = Out_Imp + Sub\n",
    "o = planilha.loc[13,:]# ocupações\n",
    "\n",
    "#Matriz para agregação de 68 atividades em 67 da TRU\n",
    "agg_68_67 = np.concatenate((np.eye(67,41),np.concatenate((np.zeros((40,27)),np.eye(27,27)))),axis=1)\n",
    "#Transformação nas matrizes para 67 atividades\n",
    "VAB = np.matmul(agg_68_67,VAB.transpose())\n",
    "W = np.matmul(agg_68_67,W.transpose())\n",
    "RMB = np.matmul(agg_68_67,RMB.transpose())\n",
    "Out_Imp = np.matmul(agg_68_67,Out_Imp.transpose())\n",
    "Sub = np.matmul(agg_68_67,Sub.transpose())\n",
    "Imp_ou_sub = np.matmul(agg_68_67,Imp_ou_sub.transpose())\n",
    "o = np.matmul(agg_68_67,o.transpose())\n",
    "\n",
    "\n"
   ]
  },
  {
   "cell_type": "markdown",
   "id": "4268a207",
   "metadata": {},
   "source": [
    "# Derivar informações da MIP"
   ]
  },
  {
   "cell_type": "code",
   "execution_count": 194,
   "id": "c9ea01b0",
   "metadata": {},
   "outputs": [],
   "source": [
    "g = np.matmul(V,np.ones(127)) ## Produção total por atividade\n",
    "q = np.transpose(np.matmul(np.transpose(np.ones(67)),V)) ## Produção total por produto\n",
    "D = np.matmul(V,np.linalg.inv(np.diag(q))) # market share - participação do setor econômico na produção total do produto\n",
    "\n",
    "Bn = np.matmul(Un,np.linalg.inv(np.diag(g))) # consumo intermediário nacional divido pela produção por atividade\n",
    "A = np.matmul(D,Bn) # coeficientes técnicos intersetoriais nacionais\n",
    "\n",
    "fn = np.matmul(Fn,np.transpose(np.ones(6))) # soma da demanda final\n",
    "e = np.matmul(D,fn) #Demanda final ( nacional )\n",
    "\n",
    "Bm = np.matmul(Um,np.linalg.inv(np.diag(g))) # consumo intermediário importado\n",
    "\n",
    "A_plus = np.matmul(D,Bn+Bm) # coeficientes técnicos ampliada ( contém insumos nacionais e importados )\n",
    "L = np.linalg.inv(np.eye(A.shape[0])-A) # leontief\n",
    "\n",
    "l=np.matmul(np.linalg.inv(np.diag(g)),o)#Postos de trabalho por unidade (Milhão) de produção \n",
    "\n"
   ]
  },
  {
   "cell_type": "code",
   "execution_count": 203,
   "id": "f9e6ca5f",
   "metadata": {},
   "outputs": [],
   "source": [
    "w = np.matmul(np.linalg.inv(np.diag(g)),W) # participação de remuneracoes pela produção total, para cada atividade\n",
    "wa = np.matmul(np.linalg.inv(np.diag(g)),W+RMB) # participação de remuneracoes pela produção total, para cada atividade\n",
    "\n",
    "y=np.matmul(np.linalg.inv(np.diag(g)),VAB) # participação de valor agregado pela produção total, para cada atividade\n",
    "tp=np.matmul(np.matmul(np.linalg.inv(np.diag(g)),D),Imp)#Divisão de impostos pelo market share de cada produto\n",
    "\n",
    "to=np.matmul(np.matmul(np.diag(y),np.linalg.inv(np.diag(VAB))),Imp_ou_sub)#Outros impostos sobre a produção\n",
    "\n",
    "tn = tp.to_numpy()+to #Total de impostos sobre produção nacional\n"
   ]
  },
  {
   "cell_type": "code",
   "execution_count": 272,
   "id": "8130c6cf",
   "metadata": {},
   "outputs": [],
   "source": [
    "\n",
    "massa_salarial = np.matmul(w.transpose(),np.matmul(L,e))\n",
    "pib = np.matmul(np.matmul(y.transpose()+tp.transpose(),L),e.to_numpy())\n",
    "Valor_Agregado = np.matmul(np.matmul(y.transpose(),L),e)"
   ]
  },
  {
   "cell_type": "code",
   "execution_count": 276,
   "id": "761188c4",
   "metadata": {},
   "outputs": [
    {
     "data": {
      "text/plain": [
       "5    5995787.0\n",
       "dtype: float64"
      ]
     },
     "execution_count": 276,
     "metadata": {},
     "output_type": "execute_result"
    }
   ],
   "source": [
    "pib"
   ]
  },
  {
   "cell_type": "code",
   "execution_count": 277,
   "id": "97e70b10",
   "metadata": {},
   "outputs": [
    {
     "name": "stdout",
     "output_type": "stream",
     "text": [
      "Aumento no consumo intermediário importado de 108729.79 \n",
      "Aumento no valor agregado de produção de 809055.52 \n",
      "Aumento no PIB de 1042541.63 \n",
      "Aumento nas ocupações (postos de trabalho) de 28.60 \n",
      "Aumento na massa salarial de 370005.27 \n",
      "Aumento na massa salarial ampliada de 527845.12 \n"
     ]
    }
   ],
   "source": [
    "#Calcular o incremento de uma unidade (milhão) na atividade identificadada por 1 no vetor arr\n",
    "arr = np.zeros(67)\n",
    "arr[7]=1\n",
    "\n",
    "print(\"Aumento no consumo intermediário importado de {:0.2f} \".format(np.matmul(np.ones(67),np.matmul(np.matmul(np.matmul(D,Bm),L),arr)*1000000)))#aumento de consumo intermediário importado\n",
    "print(\"Aumento no valor agregado de produção de {:0.2f} \".format(np.matmul(np.matmul(y.transpose(),L),arr)*1000000))\n",
    "print(\"Aumento no PIB de {:0.2f} \".format(np.matmul(np.matmul(y.transpose()+tp.transpose(),L),arr).values[0]*1000000))\n",
    "print(\"Aumento nas ocupações (postos de trabalho) de {:0.2f} \".format(np.matmul(np.matmul(l,L),arr)))\n",
    "print(\"Aumento na massa salarial de {:0.2f} \".format(np.matmul(np.matmul(w,L),arr)*1000000))\n",
    "print(\"Aumento na massa salarial ampliada de {:0.2f} \".format(np.matmul(np.matmul(wa,L),arr)*1000000))"
   ]
  },
  {
   "cell_type": "code",
   "execution_count": 278,
   "id": "c5e2163f",
   "metadata": {},
   "outputs": [],
   "source": [
    "mul_prod = np.matmul(np.ones(67).transpose(),L)#Multiplicador para produção\n",
    "mul_sal = np.matmul(w.transpose(),L)#multiplicador de salário\n",
    "mul_sal_ajus = np.matmul(wa.transpose(),L)#multiplicador de salário ajustado\n",
    "mul_imp = np.matmul(tp.transpose(),L)#multiplicador de impostos\n",
    "mul_ocup = np.matmul(l.transpose(),L)#Multiplicador de ocupações\n"
   ]
  },
  {
   "cell_type": "code",
   "execution_count": 282,
   "id": "a4ea60e8",
   "metadata": {},
   "outputs": [],
   "source": [
    "poder_dispersao = 67*mul_prod / np.matmul(np.matmul(np.ones(67).transpose(),L),np.ones(67).transpose()) #multiplicador de produção normalizado\n",
    "#Bn = np.matmul(np.linalg.inv(np.diag(g)),D) # consumo intermediário nacional\n",
    "\n",
    "B = np.matmul(np.matmul(np.linalg.inv(np.diag(g)),D),Un) #coeficientes técnicos a jusante\n",
    "G = np.linalg.inv(np.eye(B.shape[0])-B) #matriz inversa de Gosh\n",
    "mul_prod_jus = np.matmul(G,np.ones(67))\n",
    "sensibilidade_dispersao = 67*mul_prod_jus / np.matmul(np.matmul(np.ones(67).transpose(),G),np.ones(67)) #multiplicador a jusante normalizado\n"
   ]
  },
  {
   "cell_type": "code",
   "execution_count": 284,
   "id": "bab8b5fd",
   "metadata": {},
   "outputs": [
    {
     "data": {
      "text/plain": [
       "1.765005596912226"
      ]
     },
     "execution_count": 284,
     "metadata": {},
     "output_type": "execute_result"
    }
   ],
   "source": [
    "mul_prod_jus[0]"
   ]
  },
  {
   "cell_type": "code",
   "execution_count": 252,
   "id": "d6c2c824",
   "metadata": {},
   "outputs": [
    {
     "data": {
      "text/plain": [
       "28.600352346320392"
      ]
     },
     "execution_count": 252,
     "metadata": {},
     "output_type": "execute_result"
    }
   ],
   "source": []
  },
  {
   "cell_type": "markdown",
   "id": "9d5b42ab",
   "metadata": {},
   "source": [
    "# Teste de derivação da MIP a partir da TRU ( Andamento )"
   ]
  },
  {
   "cell_type": "code",
   "execution_count": 12,
   "id": "adfed52c",
   "metadata": {},
   "outputs": [],
   "source": [
    "ConsumoIntermediario = pd.read_excel('./dados/nivel_68_2010_2021_xls/68_tab2_2015.xls',sheet_name='VA',skiprows=5,skipfooter=4,usecols=[*range(1,69)],header=None) # planilha VA\n",
    "Demanda = pd.read_excel('./dados/nivel_68_2010_2021_xls/68_tab2_2015.xls',sheet_name='VA',skiprows=5,skipfooter=4,usecols=[*range(1,69)],header=None) # planilha VA\n"
   ]
  },
  {
   "cell_type": "code",
   "execution_count": null,
   "id": "76e6e76e",
   "metadata": {},
   "outputs": [],
   "source": []
  },
  {
   "cell_type": "code",
   "execution_count": 6,
   "id": "9480fc9a-3f09-4786-ad64-80ec7499bf73",
   "metadata": {},
   "outputs": [
    {
     "name": "stdout",
     "output_type": "stream",
     "text": [
      "[[280 120]\n",
      " [ 12   8]]\n",
      "[575  20]\n"
     ]
    }
   ],
   "source": [
    "Q = np.array([[280,120],[12,8]])\n",
    "q = np.array([575,20])\n",
    "\n",
    "print(Q)\n",
    "print(q)"
   ]
  },
  {
   "cell_type": "code",
   "execution_count": 14,
   "id": "a9b4f348-3548-4e07-b6a0-4ed94f18973a",
   "metadata": {},
   "outputs": [],
   "source": [
    "A= np.matmul(Q,np.linalg.inv(np.diag(q)))"
   ]
  },
  {
   "cell_type": "code",
   "execution_count": 19,
   "id": "f25b0647-93cd-4df6-b40a-732f7fdf1aeb",
   "metadata": {},
   "outputs": [],
   "source": [
    "eigvector,eigvalues = la.eig(np.matrix.transpose(A))"
   ]
  },
  {
   "cell_type": "code",
   "execution_count": 38,
   "id": "cb8ce293-d7ec-4461-a608-cdd7a9652b15",
   "metadata": {},
   "outputs": [],
   "source": [
    "lambdas = max(eigvector).real\n",
    "pos_vec = np.argmax(eigvector)"
   ]
  },
  {
   "cell_type": "code",
   "execution_count": 39,
   "id": "ba4f65ae-c1db-4834-9cdf-d928ff2e46a9",
   "metadata": {},
   "outputs": [],
   "source": [
    "max_eigvectors = eigvalues[:,pos_vec].reshape(2,1)"
   ]
  },
  {
   "cell_type": "code",
   "execution_count": 40,
   "id": "21b168e5-43f5-4e95-bd82-5b831e41d7bc",
   "metadata": {},
   "outputs": [],
   "source": [
    "r = (1-lambdas)/lambdas"
   ]
  },
  {
   "cell_type": "code",
   "execution_count": 37,
   "id": "13ac630d-889b-424c-8cdf-1a006225ee6f",
   "metadata": {},
   "outputs": [
    {
     "data": {
      "text/plain": [
       "0.8"
      ]
     },
     "execution_count": 37,
     "metadata": {},
     "output_type": "execute_result"
    }
   ],
   "source": [
    "lambdas.real"
   ]
  },
  {
   "cell_type": "code",
   "execution_count": 45,
   "id": "50b14906-f40e-4788-a8c4-6dcc5c1ae677",
   "metadata": {},
   "outputs": [
    {
     "data": {
      "text/plain": [
       "array([[ 1.],\n",
       "       [15.]])"
      ]
     },
     "execution_count": 45,
     "metadata": {},
     "output_type": "execute_result"
    }
   ],
   "source": [
    "max_eigvectors/max_eigvectors[0]"
   ]
  },
  {
   "cell_type": "markdown",
   "id": "4940a45b-8e65-412a-aced-69f5bf7b0c73",
   "metadata": {},
   "source": [
    "## Importação de dados reais"
   ]
  },
  {
   "cell_type": "code",
   "execution_count": 1,
   "id": "7fb400a0-8eda-4cb5-adfa-bd3ba468bc2e",
   "metadata": {},
   "outputs": [
    {
     "name": "stdout",
     "output_type": "stream",
     "text": [
      "\u001b[4l\u001b[0m\n",
      "Undefined variable: import\n",
      "\u001b[0m"
     ]
    }
   ],
   "source": [
    "import pandas as pd"
   ]
  },
  {
   "cell_type": "code",
   "execution_count": null,
   "id": "0d0b85bd-ffcd-4559-ac94-d1b39c3c5357",
   "metadata": {},
   "outputs": [],
   "source": []
  }
 ],
 "metadata": {
  "kernelspec": {
   "display_name": "Python 3 (ipykernel)",
   "language": "python",
   "name": "python3"
  },
  "language_info": {
   "codemirror_mode": {
    "name": "ipython",
    "version": 3
   },
   "file_extension": ".py",
   "mimetype": "text/x-python",
   "name": "python",
   "nbconvert_exporter": "python",
   "pygments_lexer": "ipython3",
   "version": "3.12.2"
  }
 },
 "nbformat": 4,
 "nbformat_minor": 5
}
