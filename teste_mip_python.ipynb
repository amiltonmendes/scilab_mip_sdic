{
 "cells": [
  {
   "cell_type": "code",
   "execution_count": 1,
   "id": "bd047f0c-6ef9-4e87-bd8c-5cf5e4c9f438",
   "metadata": {},
   "outputs": [],
   "source": [
    "import numpy as np\n",
    "import scipy.linalg as la\n",
    "import pandas as pd"
   ]
  },
  {
   "cell_type": "code",
   "execution_count": 111,
   "id": "12fda94d",
   "metadata": {},
   "outputs": [],
   "source": [
    "#Produção total\n",
    "V = pd.read_excel('./dados/Matriz_de_Insumo_Produto_2015_Nivel_67.xls',sheet_name='01',skiprows=5,skipfooter=5,usecols=[*range(7,74)],header=None)\n",
    "V = np.transpose(V)\n",
    "#Impostos\n",
    "Imp = pd.read_excel('./dados/Matriz_de_Insumo_Produto_2015_Nivel_67.xls',sheet_name='01',skiprows=5,skipfooter=5,usecols=[5],header=None)\n",
    "#Consumo intermediário produção nacional\n",
    "Un = pd.read_excel('./dados/Matriz_de_Insumo_Produto_2015_Nivel_67.xls',sheet_name='03',skiprows=5,skipfooter=4,usecols=[*range(3,70)],header=None)\n",
    "#Demanda Final Nacional\n",
    "Fn = pd.read_excel('./dados/Matriz_de_Insumo_Produto_2015_Nivel_67.xls',sheet_name='03',skiprows=5,skipfooter=4,usecols=[*range(71,77)],header=None)\n",
    "\n",
    "#Consumo intermediário produção importados\n",
    "Um = pd.read_excel('./dados/Matriz_de_Insumo_Produto_2015_Nivel_67.xls',sheet_name='04',skiprows=5,skipfooter=4,usecols=[*range(3,70)],header=None)\n",
    "#Demanda Final Nacional importados\n",
    "Fm = pd.read_excel('./dados/Matriz_de_Insumo_Produto_2015_Nivel_67.xls',sheet_name='04',skiprows=5,skipfooter=4,usecols=[*range(71,77)],header=None)\n"
   ]
  },
  {
   "cell_type": "markdown",
   "id": "dff1d0c0",
   "metadata": {},
   "source": [
    "# Extrair informações da TRU\n"
   ]
  },
  {
   "cell_type": "code",
   "execution_count": 152,
   "id": "ecf88050",
   "metadata": {},
   "outputs": [],
   "source": [
    "#Dados da TRU\n",
    "planilha = pd.read_excel('./dados/nivel_68_2010_2021_xls/68_tab2_2015.xls',sheet_name='VA',skiprows=5,skipfooter=4,usecols=[*range(1,69)],header=None) # planilha VA\n",
    "VAB = planilha.iloc[0,:].to_numpy()#Valor adicionado bruto\n",
    "W = planilha.loc[1,:].to_numpy()#Remuneracoes\n",
    "RMB = planilha.loc[8,:].to_numpy()#Rendimento misto bruto\n",
    "Out_Imp = planilha.loc[10,:].to_numpy()# outros impostos e subsidios\n",
    "Sub = planilha.loc[11,:].to_numpy()# outros impostos e subsidios\n",
    "Imp_ou_sub = Out_Imp + Sub\n",
    "o = planilha.loc[13,:]# ocupações\n",
    "\n",
    "#Matriz para agregação de 68 atividades em 67 da TRU\n",
    "agg_68_67 = np.concatenate((np.eye(67,41),np.concatenate((np.zeros((40,27)),np.eye(27,27)))),axis=1)\n",
    "#Transformação nas matrizes para 67 atividades\n",
    "VAB = np.matmul(agg_68_67,VAB.transpose())\n",
    "W = np.matmul(agg_68_67,W.transpose())\n",
    "RMB = np.matmul(agg_68_67,RMB.transpose())\n",
    "Out_Imp = np.matmul(agg_68_67,Out_Imp.transpose())\n",
    "Sub = np.matmul(agg_68_67,Sub.transpose())\n",
    "Imp_ou_sub = np.matmul(agg_68_67,Imp_ou_sub.transpose())\n",
    "o = np.matmul(agg_68_67,o.transpose())\n",
    "\n",
    "\n"
   ]
  },
  {
   "cell_type": "markdown",
   "id": "4268a207",
   "metadata": {},
   "source": [
    "# Trabalhadar com dados da MIP"
   ]
  },
  {
   "cell_type": "code",
   "execution_count": 157,
   "id": "c9ea01b0",
   "metadata": {},
   "outputs": [],
   "source": [
    "g = np.matmul(V,np.ones(127)) ## Produção total por atividade\n",
    "q = np.transpose(np.matmul(np.transpose(np.ones(67)),V)) ## Produção total por produto\n",
    "D = np.matmul(V,np.linalg.inv(np.diag(q))) # market share\n",
    "\n",
    "Bn = np.matmul(Un,np.linalg.inv(np.diag(g))) # consumo intermediário nacional\n",
    "A = np.matmul(D,Bn) # coeficientes técnicos intersetoriais nacionais\n",
    "\n",
    "fn = np.matmul(Fn,np.transpose(np.ones(6))) # soma da demanda final\n",
    "e = np.matmul(D,fn) #Demanda final ( nacional )\n",
    "\n",
    "Bm = np.matmul(Um,np.linalg.inv(np.diag(g))) # consumo intermediário importado\n",
    "\n",
    "A_plus = np.matmul(D,Bn+Bm) # coeficientes técnicos ampliada ( contém insumos nacionais e importados )\n",
    "L = np.linalg.inv(np.eye(A.shape[0])-A) # leontief\n",
    "\n"
   ]
  },
  {
   "cell_type": "code",
   "execution_count": 160,
   "id": "eb397be6",
   "metadata": {},
   "outputs": [],
   "source": [
    "l=np.matmul(np.linalg.inv(np.diag(g)),o)#Postos de trabalho por unidade (Milhão) de produção \n"
   ]
  },
  {
   "cell_type": "code",
   "execution_count": 114,
   "id": "36d033ac",
   "metadata": {},
   "outputs": [
    {
     "data": {
      "text/html": [
       "<div>\n",
       "<style scoped>\n",
       "    .dataframe tbody tr th:only-of-type {\n",
       "        vertical-align: middle;\n",
       "    }\n",
       "\n",
       "    .dataframe tbody tr th {\n",
       "        vertical-align: top;\n",
       "    }\n",
       "\n",
       "    .dataframe thead th {\n",
       "        text-align: right;\n",
       "    }\n",
       "</style>\n",
       "<table border=\"1\" class=\"dataframe\">\n",
       "  <thead>\n",
       "    <tr style=\"text-align: right;\">\n",
       "      <th></th>\n",
       "      <th>5</th>\n",
       "    </tr>\n",
       "  </thead>\n",
       "  <tbody>\n",
       "    <tr>\n",
       "      <th>0</th>\n",
       "      <td>204</td>\n",
       "    </tr>\n",
       "    <tr>\n",
       "      <th>1</th>\n",
       "      <td>104</td>\n",
       "    </tr>\n",
       "    <tr>\n",
       "      <th>2</th>\n",
       "      <td>140</td>\n",
       "    </tr>\n",
       "    <tr>\n",
       "      <th>3</th>\n",
       "      <td>1263</td>\n",
       "    </tr>\n",
       "    <tr>\n",
       "      <th>4</th>\n",
       "      <td>387</td>\n",
       "    </tr>\n",
       "  </tbody>\n",
       "</table>\n",
       "</div>"
      ],
      "text/plain": [
       "      5\n",
       "0   204\n",
       "1   104\n",
       "2   140\n",
       "3  1263\n",
       "4   387"
      ]
     },
     "execution_count": 114,
     "metadata": {},
     "output_type": "execute_result"
    }
   ],
   "source": [
    "Imp.head()"
   ]
  },
  {
   "cell_type": "code",
   "execution_count": 188,
   "id": "97e70b10",
   "metadata": {},
   "outputs": [],
   "source": [
    "arr = np.zeros(67)\n",
    "arr[0]=1"
   ]
  },
  {
   "cell_type": "code",
   "execution_count": 189,
   "id": "a9ef2ab7",
   "metadata": {},
   "outputs": [
    {
     "data": {
      "text/plain": [
       "0.15079287164703803"
      ]
     },
     "execution_count": 189,
     "metadata": {},
     "output_type": "execute_result"
    }
   ],
   "source": [
    "np.matmul(np.ones(67),np.matmul(np.matmul(np.matmul(D,Bm),L),arr))"
   ]
  },
  {
   "cell_type": "code",
   "execution_count": 170,
   "id": "8d5359c6",
   "metadata": {},
   "outputs": [
    {
     "data": {
      "text/plain": [
       "0.6305090748500009"
      ]
     },
     "execution_count": 170,
     "metadata": {},
     "output_type": "execute_result"
    }
   ],
   "source": [
    "np.matmul(np.matmul(y.transpose(),L),arr)"
   ]
  },
  {
   "cell_type": "code",
   "execution_count": 171,
   "id": "07df49e2",
   "metadata": {},
   "outputs": [
    {
     "data": {
      "text/plain": [
       "5    0.977581\n",
       "dtype: float64"
      ]
     },
     "execution_count": 171,
     "metadata": {},
     "output_type": "execute_result"
    }
   ],
   "source": [
    "np.matmul(np.matmul(y.transpose()+tp.transpose(),L),arr)"
   ]
  },
  {
   "cell_type": "code",
   "execution_count": 173,
   "id": "ba70365c",
   "metadata": {},
   "outputs": [
    {
     "data": {
      "text/plain": [
       "5    5995787.0\n",
       "dtype: float64"
      ]
     },
     "execution_count": 173,
     "metadata": {},
     "output_type": "execute_result"
    }
   ],
   "source": [
    "ones(1,67)*D*Bm*L*[1;zeros(66,1)]"
   ]
  },
  {
   "cell_type": "code",
   "execution_count": 120,
   "id": "39e35d3a",
   "metadata": {},
   "outputs": [],
   "source": [
    "w = np.matmul(np.linalg.inv(np.diag(g)),W) # participação de remuneracoes pela produção total, para cada atividade\n",
    "y=np.matmul(np.linalg.inv(np.diag(g)),VAB) # participação de valor agregado pela produção total, para cada atividade\n",
    "tp=np.matmul(np.matmul(np.linalg.inv(np.diag(g)),D),Imp)#Divisão de impostos pelo market share de cada produto\n",
    "\n",
    "to=np.matmul(np.matmul(np.diag(y),np.linalg.inv(np.diag(VAB))),Imp_ou_sub)#Outros impostos sobre a produção\n",
    "\n",
    "tn = tp+to #Total de impostos sobre produção nacional\n",
    "\n"
   ]
  },
  {
   "cell_type": "code",
   "execution_count": 147,
   "id": "65de8873",
   "metadata": {},
   "outputs": [],
   "source": [
    "massa_salarial = np.matmul(w.transpose(),np.matmul(L,e))"
   ]
  },
  {
   "cell_type": "code",
   "execution_count": 148,
   "id": "262d8a55",
   "metadata": {},
   "outputs": [],
   "source": [
    "pib = np.matmul(np.matmul(y.transpose()+tp.transpose(),L),e.to_numpy())\n",
    "Valor_Agregado = np.matmul(np.matmul(y.transpose(),L),e)"
   ]
  },
  {
   "cell_type": "code",
   "execution_count": 150,
   "id": "b9826870",
   "metadata": {},
   "outputs": [
    {
     "data": {
      "text/plain": [
       "0.5182751729623762"
      ]
     },
     "execution_count": 150,
     "metadata": {},
     "output_type": "execute_result"
    }
   ],
   "source": [
    "massa_salarial/Valor_Agregado"
   ]
  },
  {
   "cell_type": "code",
   "execution_count": 92,
   "id": "388d0765",
   "metadata": {},
   "outputs": [],
   "source": [
    "#Massa salarial\n",
    "y\n"
   ]
  },
  {
   "cell_type": "code",
   "execution_count": 94,
   "id": "566c7f91",
   "metadata": {},
   "outputs": [
    {
     "data": {
      "text/plain": [
       "5155601.0"
      ]
     },
     "execution_count": 94,
     "metadata": {},
     "output_type": "execute_result"
    }
   ],
   "source": []
  },
  {
   "cell_type": "markdown",
   "id": "9d5b42ab",
   "metadata": {},
   "source": [
    "# Teste de derivação da MIP a partir da TRU ( Andamento )"
   ]
  },
  {
   "cell_type": "code",
   "execution_count": 12,
   "id": "adfed52c",
   "metadata": {},
   "outputs": [],
   "source": [
    "ConsumoIntermediario = pd.read_excel('./dados/nivel_68_2010_2021_xls/68_tab2_2015.xls',sheet_name='VA',skiprows=5,skipfooter=4,usecols=[*range(1,69)],header=None) # planilha VA\n",
    "Demanda = pd.read_excel('./dados/nivel_68_2010_2021_xls/68_tab2_2015.xls',sheet_name='VA',skiprows=5,skipfooter=4,usecols=[*range(1,69)],header=None) # planilha VA\n"
   ]
  },
  {
   "cell_type": "code",
   "execution_count": null,
   "id": "76e6e76e",
   "metadata": {},
   "outputs": [],
   "source": []
  },
  {
   "cell_type": "code",
   "execution_count": 6,
   "id": "9480fc9a-3f09-4786-ad64-80ec7499bf73",
   "metadata": {},
   "outputs": [
    {
     "name": "stdout",
     "output_type": "stream",
     "text": [
      "[[280 120]\n",
      " [ 12   8]]\n",
      "[575  20]\n"
     ]
    }
   ],
   "source": [
    "Q = np.array([[280,120],[12,8]])\n",
    "q = np.array([575,20])\n",
    "\n",
    "print(Q)\n",
    "print(q)"
   ]
  },
  {
   "cell_type": "code",
   "execution_count": 14,
   "id": "a9b4f348-3548-4e07-b6a0-4ed94f18973a",
   "metadata": {},
   "outputs": [],
   "source": [
    "A= np.matmul(Q,np.linalg.inv(np.diag(q)))"
   ]
  },
  {
   "cell_type": "code",
   "execution_count": 19,
   "id": "f25b0647-93cd-4df6-b40a-732f7fdf1aeb",
   "metadata": {},
   "outputs": [],
   "source": [
    "eigvector,eigvalues = la.eig(np.matrix.transpose(A))"
   ]
  },
  {
   "cell_type": "code",
   "execution_count": 38,
   "id": "cb8ce293-d7ec-4461-a608-cdd7a9652b15",
   "metadata": {},
   "outputs": [],
   "source": [
    "lambdas = max(eigvector).real\n",
    "pos_vec = np.argmax(eigvector)"
   ]
  },
  {
   "cell_type": "code",
   "execution_count": 39,
   "id": "ba4f65ae-c1db-4834-9cdf-d928ff2e46a9",
   "metadata": {},
   "outputs": [],
   "source": [
    "max_eigvectors = eigvalues[:,pos_vec].reshape(2,1)"
   ]
  },
  {
   "cell_type": "code",
   "execution_count": 40,
   "id": "21b168e5-43f5-4e95-bd82-5b831e41d7bc",
   "metadata": {},
   "outputs": [],
   "source": [
    "r = (1-lambdas)/lambdas"
   ]
  },
  {
   "cell_type": "code",
   "execution_count": 37,
   "id": "13ac630d-889b-424c-8cdf-1a006225ee6f",
   "metadata": {},
   "outputs": [
    {
     "data": {
      "text/plain": [
       "0.8"
      ]
     },
     "execution_count": 37,
     "metadata": {},
     "output_type": "execute_result"
    }
   ],
   "source": [
    "lambdas.real"
   ]
  },
  {
   "cell_type": "code",
   "execution_count": 45,
   "id": "50b14906-f40e-4788-a8c4-6dcc5c1ae677",
   "metadata": {},
   "outputs": [
    {
     "data": {
      "text/plain": [
       "array([[ 1.],\n",
       "       [15.]])"
      ]
     },
     "execution_count": 45,
     "metadata": {},
     "output_type": "execute_result"
    }
   ],
   "source": [
    "max_eigvectors/max_eigvectors[0]"
   ]
  },
  {
   "cell_type": "markdown",
   "id": "4940a45b-8e65-412a-aced-69f5bf7b0c73",
   "metadata": {},
   "source": [
    "## Importação de dados reais"
   ]
  },
  {
   "cell_type": "code",
   "execution_count": 1,
   "id": "7fb400a0-8eda-4cb5-adfa-bd3ba468bc2e",
   "metadata": {},
   "outputs": [
    {
     "name": "stdout",
     "output_type": "stream",
     "text": [
      "\u001b[4l\u001b[0m\n",
      "Undefined variable: import\n",
      "\u001b[0m"
     ]
    }
   ],
   "source": [
    "import pandas as pd"
   ]
  },
  {
   "cell_type": "code",
   "execution_count": null,
   "id": "0d0b85bd-ffcd-4559-ac94-d1b39c3c5357",
   "metadata": {},
   "outputs": [],
   "source": []
  }
 ],
 "metadata": {
  "kernelspec": {
   "display_name": "Python 3 (ipykernel)",
   "language": "python",
   "name": "python3"
  },
  "language_info": {
   "codemirror_mode": {
    "name": "ipython",
    "version": 3
   },
   "file_extension": ".py",
   "mimetype": "text/x-python",
   "name": "python",
   "nbconvert_exporter": "python",
   "pygments_lexer": "ipython3",
   "version": "3.12.2"
  }
 },
 "nbformat": 4,
 "nbformat_minor": 5
}
