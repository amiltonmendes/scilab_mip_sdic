{
 "cells": [
  {
   "cell_type": "code",
   "execution_count": 1,
   "id": "5ba1cb61-d626-4bb8-8f13-28f26b80cf1b",
   "metadata": {},
   "outputs": [
    {
     "name": "stdout",
     "output_type": "stream",
     "text": [
      "\u001b[4l\u001b[0m Q  = \n",
      "   280.   120.\n",
      "   12.    8.  \n",
      "\u001b[0m\u001b[4l\u001b[0m q  = \n",
      "   575.\n",
      "   20.\n",
      "\u001b[0m"
     ]
    }
   ],
   "source": [
    "Q=[280,120;12,8]\n",
    "q=[575;20]"
   ]
  },
  {
   "cell_type": "code",
   "execution_count": 2,
   "id": "6caab55b-f322-4fef-879f-357e9a9a1915",
   "metadata": {},
   "outputs": [
    {
     "name": "stdout",
     "output_type": "stream",
     "text": [
      "\u001b[4l\u001b[0m A  = \n",
      "   0.4869565   6. \n",
      "   0.0208696   0.4\n",
      "\u001b[0m"
     ]
    }
   ],
   "source": [
    "A=Q*inv(diag(q))"
   ]
  },
  {
   "cell_type": "code",
   "execution_count": 7,
   "id": "f12ef43e-83ec-4edb-93b4-d3f530057ad3",
   "metadata": {},
   "outputs": [
    {
     "name": "stdout",
     "output_type": "stream",
     "text": [
      "\u001b[4l\u001b[0m ans  =\n",
      "   0.0017391   0.  \n",
      "   0.          0.05\n",
      "\u001b[0m"
     ]
    }
   ],
   "source": [
    "inv(diag(q))"
   ]
  },
  {
   "cell_type": "code",
   "execution_count": 5,
   "id": "5fa5852c-3231-45dc-9c6e-53f32d0465a5",
   "metadata": {},
   "outputs": [
    {
     "name": "stdout",
     "output_type": "stream",
     "text": [
      "\u001b[4l\u001b[0m prop  = \n",
      "   0.066519  + 0.i  -0.052103  + 0.i\n",
      "   0.9977852 + 0.i   0.9986417 + 0.i\n",
      " lambdas  = \n",
      "   0.8 + 0.i   0.        + 0.i\n",
      "   0.  + 0.i   0.0869565 + 0.i\n",
      "\u001b[0m"
     ]
    }
   ],
   "source": [
    "[prop, lambdas]=spec(A')\n"
   ]
  },
  {
   "cell_type": "code",
   "execution_count": 10,
   "id": "2c0e2a9b-f494-48d4-8391-49ca646af4d8",
   "metadata": {},
   "outputs": [
    {
     "name": "stdout",
     "output_type": "stream",
     "text": [
      "\u001b[4l\u001b[0m lambdad  = \n",
      "   0.8\n",
      " ind  = \n",
      "   1.   1.\n",
      "\u001b[0m"
     ]
    }
   ],
   "source": [
    "[lambdad, ind]=max(real(lambdas))\n"
   ]
  },
  {
   "cell_type": "code",
   "execution_count": 11,
   "id": "637189f9-f6df-4b84-9829-3e37db92cb78",
   "metadata": {},
   "outputs": [
    {
     "name": "stdout",
     "output_type": "stream",
     "text": [
      "\u001b[4l\u001b[0m p  = \n",
      "   1.\n",
      "   15.\n",
      "\u001b[0m"
     ]
    }
   ],
   "source": [
    "p=prop(1:2,ind(1))/prop(1,ind(1))"
   ]
  },
  {
   "cell_type": "code",
   "execution_count": 19,
   "id": "e9060567-f4eb-48bc-82b5-bf844ccaddbc",
   "metadata": {},
   "outputs": [
    {
     "name": "stdout",
     "output_type": "stream",
     "text": [
      "\u001b[4l\u001b[0m ans  =\n",
      "   0.0665190\n",
      "   0.9977852\n",
      "\u001b[0m"
     ]
    }
   ],
   "source": [
    "prop(1:2,ind(1))"
   ]
  },
  {
   "cell_type": "code",
   "execution_count": 21,
   "id": "29f60e6e-76b7-4202-8919-c7c4fd035afa",
   "metadata": {},
   "outputs": [
    {
     "name": "stdout",
     "output_type": "stream",
     "text": [
      "\u001b[4l\u001b[0m ans  =\n",
      "   0.0665190\n",
      "\u001b[0m"
     ]
    }
   ],
   "source": [
    "prop(1,ind(1))"
   ]
  },
  {
   "cell_type": "code",
   "execution_count": 12,
   "id": "b73cbc33-d5f4-4ec5-8063-3dd1ed07df9a",
   "metadata": {},
   "outputs": [
    {
     "name": "stdout",
     "output_type": "stream",
     "text": [
      "\u001b[4l\u001b[0m r  = \n",
      "   0.2500000\n",
      "\u001b[0m"
     ]
    }
   ],
   "source": [
    "r=(1-lambdad)/lambdad"
   ]
  },
  {
   "cell_type": "code",
   "execution_count": 20,
   "id": "6e3bbe90-cd8d-441d-b58d-c966759fe108",
   "metadata": {},
   "outputs": [
    {
     "name": "stdout",
     "output_type": "stream",
     "text": [
      "\u001b[4l\u001b[0m ans  =\n",
      "   0.2500000\n",
      "\u001b[0m"
     ]
    }
   ],
   "source": [
    "(1-0.8)/0.8"
   ]
  }
 ],
 "metadata": {
  "kernelspec": {
   "display_name": "Scilab",
   "language": "scilab",
   "name": "scilab"
  },
  "language_info": {
   "file_extension": ".sci",
   "help_links": [
    {
     "text": "MetaKernel Magics",
     "url": "https://metakernel.readthedocs.io/en/latest/source/README.html"
    }
   ],
   "mimetype": "text/x-scilab",
   "name": "scilab",
   "version": "0.10.0"
  }
 },
 "nbformat": 4,
 "nbformat_minor": 5
}
