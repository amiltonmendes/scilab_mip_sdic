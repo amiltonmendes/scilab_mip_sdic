{
 "cells": [
  {
   "cell_type": "code",
   "execution_count": 1,
   "id": "5ba1cb61-d626-4bb8-8f13-28f26b80cf1b",
   "metadata": {},
   "outputs": [
    {
     "name": "stdout",
     "output_type": "stream",
     "text": [
      "\u001b[4l\u001b[0m Q  = \n",
      "   280.   120.\n",
      "   12.    8.  \n",
      "\u001b[0m\u001b[4l\u001b[0m q  = \n",
      "   575.\n",
      "   20.\n",
      "\u001b[0m"
     ]
    }
   ],
   "source": [
    "Q=[280,120;12,8]\n",
    "q=[575;20]"
   ]
  },
  {
   "cell_type": "code",
   "execution_count": 2,
   "id": "6caab55b-f322-4fef-879f-357e9a9a1915",
   "metadata": {},
   "outputs": [
    {
     "name": "stdout",
     "output_type": "stream",
     "text": [
      "\u001b[4l\u001b[0m A  = \n",
      "   0.4869565   6. \n",
      "   0.0208696   0.4\n",
      "\u001b[0m"
     ]
    }
   ],
   "source": [
    "A=Q*inv(diag(q))"
   ]
  },
  {
   "cell_type": "code",
   "execution_count": 7,
   "id": "f12ef43e-83ec-4edb-93b4-d3f530057ad3",
   "metadata": {},
   "outputs": [
    {
     "name": "stdout",
     "output_type": "stream",
     "text": [
      "\u001b[4l\u001b[0m ans  =\n",
      "   0.0017391   0.  \n",
      "   0.          0.05\n",
      "\u001b[0m"
     ]
    }
   ],
   "source": [
    "inv(diag(q))"
   ]
  },
  {
   "cell_type": "code",
   "execution_count": 5,
   "id": "5fa5852c-3231-45dc-9c6e-53f32d0465a5",
   "metadata": {},
   "outputs": [
    {
     "name": "stdout",
     "output_type": "stream",
     "text": [
      "\u001b[4l\u001b[0m prop  = \n",
      "   0.066519  + 0.i  -0.052103  + 0.i\n",
      "   0.9977852 + 0.i   0.9986417 + 0.i\n",
      " lambdas  = \n",
      "   0.8 + 0.i   0.        + 0.i\n",
      "   0.  + 0.i   0.0869565 + 0.i\n",
      "\u001b[0m"
     ]
    }
   ],
   "source": [
    "[prop, lambdas]=spec(A')\n"
   ]
  },
  {
   "cell_type": "code",
   "execution_count": 10,
   "id": "2c0e2a9b-f494-48d4-8391-49ca646af4d8",
   "metadata": {},
   "outputs": [
    {
     "name": "stdout",
     "output_type": "stream",
     "text": [
      "\u001b[4l\u001b[0m lambdad  = \n",
      "   0.8\n",
      " ind  = \n",
      "   1.   1.\n",
      "\u001b[0m"
     ]
    }
   ],
   "source": [
    "[lambdad, ind]=max(real(lambdas))\n"
   ]
  },
  {
   "cell_type": "code",
   "execution_count": 11,
   "id": "637189f9-f6df-4b84-9829-3e37db92cb78",
   "metadata": {},
   "outputs": [
    {
     "name": "stdout",
     "output_type": "stream",
     "text": [
      "\u001b[4l\u001b[0m p  = \n",
      "   1.\n",
      "   15.\n",
      "\u001b[0m"
     ]
    }
   ],
   "source": [
    "p=prop(1:2,ind(1))/prop(1,ind(1))"
   ]
  },
  {
   "cell_type": "code",
   "execution_count": 19,
   "id": "e9060567-f4eb-48bc-82b5-bf844ccaddbc",
   "metadata": {},
   "outputs": [
    {
     "name": "stdout",
     "output_type": "stream",
     "text": [
      "\u001b[4l\u001b[0m ans  =\n",
      "   0.0665190\n",
      "   0.9977852\n",
      "\u001b[0m"
     ]
    }
   ],
   "source": [
    "prop(1:2,ind(1))"
   ]
  },
  {
   "cell_type": "code",
   "execution_count": 21,
   "id": "29f60e6e-76b7-4202-8919-c7c4fd035afa",
   "metadata": {},
   "outputs": [
    {
     "name": "stdout",
     "output_type": "stream",
     "text": [
      "\u001b[4l\u001b[0m ans  =\n",
      "   0.0665190\n",
      "\u001b[0m"
     ]
    }
   ],
   "source": [
    "prop(1,ind(1))"
   ]
  },
  {
   "cell_type": "code",
   "execution_count": 12,
   "id": "b73cbc33-d5f4-4ec5-8063-3dd1ed07df9a",
   "metadata": {},
   "outputs": [
    {
     "name": "stdout",
     "output_type": "stream",
     "text": [
      "\u001b[4l\u001b[0m r  = \n",
      "   0.2500000\n",
      "\u001b[0m"
     ]
    }
   ],
   "source": [
    "r=(1-lambdad)/lambdad"
   ]
  },
  {
   "cell_type": "code",
   "execution_count": 20,
   "id": "6e3bbe90-cd8d-441d-b58d-c966759fe108",
   "metadata": {},
   "outputs": [
    {
     "name": "stdout",
     "output_type": "stream",
     "text": [
      "\u001b[4l\u001b[0m ans  =\n",
      "   0.2500000\n",
      "\u001b[0m"
     ]
    }
   ],
   "source": [
    "(1-0.8)/0.8"
   ]
  },
  {
   "cell_type": "code",
   "execution_count": 1,
   "id": "899522c9",
   "metadata": {},
   "outputs": [
    {
     "name": "stdout",
     "output_type": "stream",
     "text": [
      "\u001b[4l\u001b[0m\u001b[0m\u001b[4l\u001b[0m Q  = \n",
      "   280.   120.\n",
      "   12.    8.  \n",
      "\u001b[0m\u001b[4l\u001b[0m q  = \n",
      "   575.\n",
      "   20.\n",
      "\u001b[0m\u001b[4l\u001b[0m A  = \n",
      "   0.4869565   6. \n",
      "   0.0208696   0.4\n",
      "\u001b[0m\u001b[4l\u001b[0m prop  = \n",
      "   0.066519  + 0.i  -0.052103  + 0.i\n",
      "   0.9977852 + 0.i   0.9986417 + 0.i\n",
      " lambdas  = \n",
      "   0.8 + 0.i   0.        + 0.i\n",
      "   0.  + 0.i   0.0869565 + 0.i\n",
      "\u001b[0m\u001b[4l\u001b[0m lambdad  = \n",
      "   0.8\n",
      " ind  = \n",
      "   1.   1.\n",
      "\u001b[0m\u001b[4l\u001b[0m p  = \n",
      "   1.\n",
      "   15.\n",
      "\u001b[0m\u001b[4l\u001b[0m r  = \n",
      "   0.2500000\n",
      "\u001b[0m"
     ]
    }
   ],
   "source": [
    "// Repetindo o exemplo anterior\n",
    "Q=[280,120;12,8]\n",
    "q=[575;20]\n",
    "A=Q*inv(diag(q))\n",
    "[prop, lambdas]=spec(A')\n",
    "[lambdad, ind]=max(real(lambdas))\n",
    "p=prop(1:2,ind(1))/prop(1,ind(1))\n",
    "r=(1-lambdad)/lambdad\n"
   ]
  },
  {
   "cell_type": "code",
   "execution_count": 6,
   "id": "4d71b4ce",
   "metadata": {},
   "outputs": [
    {
     "name": "stdout",
     "output_type": "stream",
     "text": [
      "\u001b[4l\u001b[0m Q2  = \n",
      "   280.   120.\n",
      "   180.   120.\n",
      "\u001b[0m"
     ]
    }
   ],
   "source": [
    "Q2"
   ]
  },
  {
   "cell_type": "code",
   "execution_count": 7,
   "id": "8f047cdd",
   "metadata": {},
   "outputs": [
    {
     "name": "stdout",
     "output_type": "stream",
     "text": [
      "\u001b[4l\u001b[0m ans  =\n",
      "   460.   240.\n",
      "\u001b[0m"
     ]
    }
   ],
   "source": [
    "(ones(1,2)*Q2)"
   ]
  },
  {
   "cell_type": "code",
   "execution_count": 2,
   "id": "7e391a3d",
   "metadata": {},
   "outputs": [
    {
     "name": "stdout",
     "output_type": "stream",
     "text": [
      "\u001b[4l\u001b[0m\u001b[0m\u001b[4l\u001b[0m\u001b[0m\u001b[4l\u001b[0m Q2  = \n",
      "   280.   120.\n",
      "   180.   120.\n",
      "\u001b[0m\u001b[4l\u001b[0m q2  = \n",
      "   575.\n",
      "   300.\n",
      "\u001b[0m\u001b[4l\u001b[0m ans  =\n",
      "   115.   60.\n",
      "\u001b[0m\u001b[4l\u001b[0m A2  = \n",
      "   0.4869565   0.4\n",
      "   0.3130435   0.4\n",
      "\u001b[0m\u001b[4l\u001b[0m prop  = \n",
      "   0.7071068 + 0.i  -0.6163083 + 0.i\n",
      "   0.7071068 + 0.i   0.787505  + 0.i\n",
      " lambdas  = \n",
      "   0.8 + 0.i   0.        + 0.i\n",
      "   0.  + 0.i   0.0869565 + 0.i\n",
      "\u001b[0m\u001b[4l\u001b[0m lambdad  = \n",
      "   0.8\n",
      " ind  = \n",
      "   1.   1.\n",
      "\u001b[0m\u001b[4l\u001b[0m p  = \n",
      "   1.\n",
      "   1.\n",
      "\u001b[0m\u001b[4l\u001b[0m r  = \n",
      "   0.2500000\n",
      "\u001b[0m"
     ]
    }
   ],
   "source": [
    "\n",
    "// Com preÃ§os de reproduÃ§Ã£o\n",
    "Q2=diag(p)*Q\n",
    "q2=diag(p)*q\n",
    "q2'-(ones(1,2)*Q2)\n",
    "A2=Q2*inv(diag(q2))\n",
    "[prop, lambdas]=spec(A2')\n",
    "[lambdad, ind]=max(real(lambdas))\n",
    "p=prop(1:2,ind(1))/prop(1,ind(1))\n",
    "r=(1-lambdad)/lambdad\n"
   ]
  },
  {
   "cell_type": "code",
   "execution_count": 8,
   "id": "8e6ad2fb",
   "metadata": {},
   "outputs": [
    {
     "name": "stdout",
     "output_type": "stream",
     "text": [
      "\u001b[4l\u001b[0m\u001b[0m\u001b[4l\u001b[0m\u001b[0m\u001b[4l\u001b[0m Q2  = \n",
      "   280.   120.\n",
      "   240.   160.\n",
      "\u001b[0m\u001b[4l\u001b[0m q2  = \n",
      "   575.\n",
      "   400.\n",
      "\u001b[0m\u001b[4l\u001b[0m ans  =\n",
      "   55.   120.\n",
      "\u001b[0m\u001b[4l\u001b[0m A2  = \n",
      "   0.4869565   0.3\n",
      "   0.4173913   0.4\n",
      "\u001b[0m\u001b[4l\u001b[0m prop  = \n",
      "   0.8 + 0.i  -0.7219882 + 0.i\n",
      "   0.6 + 0.i   0.6919054 + 0.i\n",
      " lambdas  = \n",
      "   0.8 + 0.i   0.        + 0.i\n",
      "   0.  + 0.i   0.0869565 + 0.i\n",
      "\u001b[0m\u001b[4l\u001b[0m lambdad  = \n",
      "   0.8\n",
      " ind  = \n",
      "   1.   1.\n",
      "\u001b[0m\u001b[4l\u001b[0m p  = \n",
      "   1.\n",
      "   0.7500000\n",
      "\u001b[0m\u001b[4l\u001b[0m r  = \n",
      "   0.2500000\n",
      "\u001b[0m"
     ]
    }
   ],
   "source": [
    "\n",
    "// Com um vetor de preÃ§os arbitrÃ¡rio\n",
    "Q2=diag([1;20])*Q\n",
    "q2=diag([1;20])*q\n",
    "q2'-(ones(1,2)*Q2)\n",
    "A2=Q2*inv(diag(q2))\n",
    "[prop, lambdas]=spec(A2')\n",
    "[lambdad, ind]=max(real(lambdas))\n",
    "p=prop(1:2,ind(1))/prop(1,ind(1))\n",
    "r=(1-lambdad)/lambdad"
   ]
  },
  {
   "cell_type": "code",
   "execution_count": 9,
   "id": "65f12afd",
   "metadata": {},
   "outputs": [
    {
     "name": "stdout",
     "output_type": "stream",
     "text": [
      "\u001b[4l\u001b[0m\u001b[0m\u001b[4l\u001b[0m Q2  = \n",
      "   280.   120.\n",
      "   180.   120.\n",
      "\u001b[0m\u001b[4l\u001b[0m q2  = \n",
      "   575.\n",
      "   300.\n",
      "\u001b[0m\u001b[4l\u001b[0m ans  =\n",
      "   115.   60.\n",
      "\u001b[0m\u001b[4l\u001b[0m A2  = \n",
      "   0.4869565   0.4\n",
      "   0.3130435   0.4\n",
      "\u001b[0m\u001b[4l\u001b[0m prop  = \n",
      "   0.7071068 + 0.i  -0.6163083 + 0.i\n",
      "   0.7071068 + 0.i   0.787505  + 0.i\n",
      " lambdas  = \n",
      "   0.8 + 0.i   0.        + 0.i\n",
      "   0.  + 0.i   0.0869565 + 0.i\n",
      "\u001b[0m\u001b[4l\u001b[0m lambdad  = \n",
      "   0.8\n",
      " ind  = \n",
      "   1.   1.\n",
      "\u001b[0m\u001b[4l\u001b[0m p  = \n",
      "   1.\n",
      "   1.\n",
      "\u001b[0m\u001b[4l\u001b[0m r  = \n",
      "   0.2500000\n",
      "\u001b[0m"
     ]
    }
   ],
   "source": [
    "// Com um vetor de preÃ§os arbitrÃ¡rio\n",
    "Q2=diag([1;15])*Q\n",
    "q2=diag([1;15])*q\n",
    "q2'-(ones(1,2)*Q2)\n",
    "A2=Q2*inv(diag(q2))\n",
    "[prop, lambdas]=spec(A2')\n",
    "[lambdad, ind]=max(real(lambdas))\n",
    "p=prop(1:2,ind(1))/prop(1,ind(1))\n",
    "r=(1-lambdad)/lambdad"
   ]
  },
  {
   "cell_type": "markdown",
   "id": "5edcc5f5",
   "metadata": {},
   "source": [
    "# Importação de dados reais "
   ]
  },
  {
   "cell_type": "code",
   "execution_count": 2,
   "id": "e7ac3270",
   "metadata": {},
   "outputs": [
    {
     "name": "stdout",
     "output_type": "stream",
     "text": [
      "\u001b[4l\u001b[0m\u001b[0m\u001b[4l\u001b[0m\u001b[0m\u001b[4l\u001b[0m\u001b[0m\u001b[4l\u001b[0m\u001b[0m"
     ]
    }
   ],
   "source": [
    "\n",
    "// ImportaÃ§Ã£o das tabelas bÃ¡sicas para 2015 - Planilha no diretÃ³rio de trabalho do Scilab â€“ usar: chdir('caminho')\n",
    "[fd,SST,Sheetnames,Sheetpos]=xls_open('./dados/Matriz_de_Insumo_Produto_2015_Nivel_67.xls');\n",
    "[Value,TextInd]=xls_read(fd,Sheetpos(1));\n"
   ]
  },
  {
   "cell_type": "code",
   "execution_count": 58,
   "id": "d7d78f06",
   "metadata": {},
   "outputs": [
    {
     "name": "stdout",
     "output_type": "stream",
     "text": [
      "\u001b[4l\u001b[0m\n",
      "Undefined variable: V\n",
      "\u001b[0m"
     ]
    }
   ],
   "source": [
    "V"
   ]
  },
  {
   "cell_type": "code",
   "execution_count": 4,
   "id": "6a8f6c9f",
   "metadata": {},
   "outputs": [
    {
     "name": "stdout",
     "output_type": "stream",
     "text": [
      "\u001b[4l\u001b[0m\u001b[0m"
     ]
    }
   ],
   "source": [
    "Im_Pr_Im=Value(6:132,6);\n"
   ]
  },
  {
   "cell_type": "code",
   "execution_count": 57,
   "id": "36cc9464",
   "metadata": {},
   "outputs": [
    {
     "name": "stdout",
     "output_type": "stream",
     "text": [
      "\u001b[4l\u001b[0m ans  =\n",
      "   1.   1.   1.   1.   1.   1.   1.   1.   1.   1.   1.   1.   1.   1.   1.   1.   1.   1.   1.   1.   1.   1.   1.   1.   1.   1.   1.   1.   1.   1.   1.   1.   1.   1.   1.   1.   1.   1.   1.   1.   1.   1.   1.   1.   1.   1.   1.   1.   1.   1.   1.   1.   1.   1.   1.   1.   1.   1.   1.   1.   1.   1.   1.   1.   1.   1.   1.\n",
      "\u001b[0m"
     ]
    }
   ],
   "source": [
    "ones(1,67)"
   ]
  },
  {
   "cell_type": "code",
   "execution_count": null,
   "id": "a7d877a1",
   "metadata": {},
   "outputs": [],
   "source": [
    "\n",
    "V=(Value(6:132,8:74))';//Produção total por setor (Recursos de bens e serviços)\n",
    "Im_Pr_Im=Value(6:132,6);//Impostos ( coluna de impostos líquidos de subsídios sobre produtos)\n",
    "[Value,TextInd]=xls_read(fd,Sheetpos(3));\n",
    "Un=Value(6:132,4:70);// Consumo intermediário - Oferta e demanda da produção nacional a preço básico \n",
    "Fn=Value(6:132,72:77);//Demanda final\n",
    "[Value,TextInd]=xls_read(fd,Sheetpos(4));\n",
    "Um=Value(6:132,4:70);// Consumo intermediário - Oferta e demanda de produtos importados a preço básico \n",
    "Fm=Value(6:132,72:77);//Demanda final\n"
   ]
  },
  {
   "cell_type": "code",
   "execution_count": 6,
   "id": "ea37d536",
   "metadata": {},
   "outputs": [
    {
     "name": "stdout",
     "output_type": "stream",
     "text": [
      "\u001b[4l\u001b[0m\u001b[0m\u001b[4l\u001b[0m\u001b[0m\u001b[4l\u001b[0m\u001b[0m"
     ]
    }
   ],
   "source": [
    "\n",
    "// ImportaÃ§Ã£o com agregaÃ§Ã£o diretamente das TRU\n",
    "Agg68_67=[[eye(67,41)],[zeros(40,27);eye(27,27)]];//MAtriz serve para transformar as 68 atividades em 67, a partir da soma dos setores 4500 e 4680\n"
   ]
  },
  {
   "cell_type": "code",
   "execution_count": 11,
   "id": "aa08bb86",
   "metadata": {},
   "outputs": [
    {
     "name": "stdout",
     "output_type": "stream",
     "text": [
      "\u001b[4l\u001b[0mWarning: file '/tmp/SCI_TMP_13394_89QCuY/68_tab2_2015.xls/Workbook' already opened in Scilab.\n",
      "\u001b[0m"
     ]
    }
   ],
   "source": [
    "[fd,SST,Sheetnames,Sheetpos]=xls_open('./dados/nivel_68_2010_2021_xls/68_tab2_2015.xls');\n"
   ]
  },
  {
   "cell_type": "code",
   "execution_count": 9,
   "id": "a3be19fb",
   "metadata": {},
   "outputs": [
    {
     "name": "stdout",
     "output_type": "stream",
     "text": [
      "\u001b[4l\u001b[0m Sheetnames  = \n",
      "  \"CI\"  \"demanda\"  \"VA\"  \"2m02\"  \"2n02\"  \"2o02\"\n",
      "\u001b[0m"
     ]
    }
   ],
   "source": [
    "Sheetnames"
   ]
  },
  {
   "cell_type": "code",
   "execution_count": 12,
   "id": "b2246489",
   "metadata": {},
   "outputs": [
    {
     "name": "stdout",
     "output_type": "stream",
     "text": [
      "\u001b[4l\u001b[0m\u001b[0m\u001b[4l\u001b[0m\u001b[0m"
     ]
    }
   ],
   "source": [
    "\n",
    "[Value,TextInd]=xls_read(fd,Sheetpos(3));\n"
   ]
  },
  {
   "cell_type": "code",
   "execution_count": 56,
   "id": "878a1509",
   "metadata": {},
   "outputs": [
    {
     "name": "stdout",
     "output_type": "stream",
     "text": [
      "\u001b[4l\u001b[0m ans  =\n",
      "   145771.\n",
      "\u001b[0m"
     ]
    }
   ],
   "source": [
    "(Agg68_67*(Value(6,2:69))')(42)"
   ]
  },
  {
   "cell_type": "code",
   "execution_count": null,
   "id": "d45160d5",
   "metadata": {},
   "outputs": [],
   "source": [
    "\n",
    "VAB=Agg68_67*(Value(6,2:69))';\n",
    "W=Agg68_67*(Value(7,2:69))';\n",
    "RMB=Agg68_67*(Value(14,2:69))';\n",
    "Ou_Im=Agg68_67*(Value(16,2:69)+Value(17,2:69))';\n",
    "o=Agg68_67*(Value(19,2:69))';"
   ]
  }
 ],
 "metadata": {
  "kernelspec": {
   "display_name": "Scilab",
   "language": "scilab",
   "name": "scilab"
  },
  "language_info": {
   "file_extension": ".sci",
   "help_links": [
    {
     "text": "MetaKernel Magics",
     "url": "https://metakernel.readthedocs.io/en/latest/source/README.html"
    }
   ],
   "mimetype": "text/x-scilab",
   "name": "scilab",
   "version": "0.10.0"
  }
 },
 "nbformat": 4,
 "nbformat_minor": 5
}
